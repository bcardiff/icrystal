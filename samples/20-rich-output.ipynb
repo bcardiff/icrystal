{
 "cells": [
  {
   "cell_type": "code",
   "execution_count": 1,
   "id": "6baa2b15-5e86-4e57-b713-007cc95ec048",
   "metadata": {},
   "outputs": [
    {
     "data": {
      "text/html": [
       "<p>Hello <b>world</b></p>"
      ]
     },
     "execution_count": 1,
     "metadata": {},
     "output_type": "execute_result"
    }
   ],
   "source": [
    "ICrystal.html \"<p>Hello <b>world</b></p>\""
   ]
  },
  {
   "cell_type": "code",
   "execution_count": 2,
   "id": "79d4d861-25b8-4e5f-b0d0-135cb1d18797",
   "metadata": {},
   "outputs": [
    {
     "data": {
      "application/json": "{\"a\":1,\"b\":[\"a\",null]}"
     },
     "execution_count": 2,
     "metadata": {},
     "output_type": "execute_result"
    }
   ],
   "source": [
    "ICrystal.json({a: 1, b: [\"a\", nil]})"
   ]
  },
  {
   "cell_type": "code",
   "execution_count": 3,
   "id": "c3ca977f-4c46-4369-a7b0-fc47095a7142",
   "metadata": {},
   "outputs": [
    {
     "data": {
      "image/svg+xml": [
       "    <svg height=\"100\" width=\"100\">\n",
       "      <circle cx=\"50\" cy=\"50\" r=\"40\" stroke=\"black\" stroke-width=\"3\" fill=\"red\" />\n",
       "    </svg> "
      ]
     },
     "execution_count": 3,
     "metadata": {},
     "output_type": "execute_result"
    }
   ],
   "source": [
    "ICrystal.svg <<-SVG\n",
    "    <svg height=\"100\" width=\"100\">\n",
    "      <circle cx=\"50\" cy=\"50\" r=\"40\" stroke=\"black\" stroke-width=\"3\" fill=\"red\" />\n",
    "    </svg> \n",
    "SVG"
   ]
  }
 ],
 "metadata": {
  "kernelspec": {
   "display_name": "Crystal 1.10.1",
   "language": "crystal",
   "name": "crystal"
  },
  "language_info": {
   "file_extension": ".cr",
   "mimetype": "text/x-crystal",
   "name": "Crystal",
   "version": "1.10.1"
  }
 },
 "nbformat": 4,
 "nbformat_minor": 5
}
