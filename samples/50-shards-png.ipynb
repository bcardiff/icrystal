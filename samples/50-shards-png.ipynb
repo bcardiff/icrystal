{
 "cells": [
  {
   "cell_type": "code",
   "execution_count": 1,
   "id": "f4f9183f-d1e4-4e36-86bd-f1201f2f4781",
   "metadata": {
    "vscode": {
     "languageId": "crystal"
    }
   },
   "outputs": [
    {
     "data": {
      "text/plain": [
       "I: Resolving dependencies\n",
       "I: Fetching https://github.com/stumpycr/stumpy_png.git\n",
       "I: Fetching https://github.com/spider-gazelle/qr-code.git\n",
       "I: Fetching https://github.com/stumpycr/stumpy_core.git\n",
       "I: Installing stumpy_core (1.9.1)\n",
       "I: Installing stumpy_png (5.0.1)\n",
       "I: Installing qr-code (1.0.2)\n",
       "I: Writing shard.lock\n",
       "\n",
       "\n",
       "0"
      ]
     },
     "execution_count": 1,
     "metadata": {},
     "output_type": "execute_result"
    }
   ],
   "source": [
    "ICrystal.shards do\n",
    "    dep \"stumpy_png\", github: \"stumpycr/stumpy_png\"\n",
    "    dep \"qr-code\", github: \"spider-gazelle/qr-code\"\n",
    "end"
   ]
  },
  {
   "cell_type": "code",
   "execution_count": 2,
   "id": "de8a8601",
   "metadata": {
    "vscode": {
     "languageId": "crystal"
    }
   },
   "outputs": [],
   "source": [
    "require \"patch-issue-13873\"\n",
    "require \"base64\"\n",
    "require \"stumpy_png\""
   ]
  },
  {
   "cell_type": "code",
   "execution_count": 3,
   "id": "4442458c-23f7-43c3-a44a-5b59f4044873",
   "metadata": {
    "vscode": {
     "languageId": "crystal"
    }
   },
   "outputs": [],
   "source": [
    "canvas = StumpyPNG::Canvas.new(64, 64)\n",
    "ICrystal.none"
   ]
  },
  {
   "cell_type": "code",
   "execution_count": 4,
   "id": "d06ccde0-b82d-4ca0-b443-34cda604a3e1",
   "metadata": {
    "vscode": {
     "languageId": "crystal"
    }
   },
   "outputs": [],
   "source": [
    "(0...64).each do |x|\n",
    "  (0...64).each do |y|\n",
    "    color = StumpyPNG::RGBA.from_rgb_n(x*2, y*2, 255, 8)\n",
    "    canvas[x, y] = color\n",
    "  end\n",
    "end"
   ]
  },
  {
   "cell_type": "code",
   "execution_count": 5,
   "id": "204e5a90-772f-4099-967f-66a9774241b3",
   "metadata": {
    "vscode": {
     "languageId": "crystal"
    }
   },
   "outputs": [],
   "source": [
    "io = IO::Memory.new\n",
    "StumpyPNG.write(canvas, io)"
   ]
  },
  {
   "cell_type": "code",
   "execution_count": 6,
   "id": "e97c85fc",
   "metadata": {
    "vscode": {
     "languageId": "crystal"
    }
   },
   "outputs": [
    {
     "data": {
      "text/plain": [
       "\"iVBORw0KGgoAAAANSUhEUgAAAEAAAABAEAYAAAD6+a2dAAAihElEQVR4nCXS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\\n73EY8PfD/wNEP4Si5DiuWQAAAABJRU5ErkJggg==\\n\""
      ]
     },
     "execution_count": 6,
     "metadata": {},
     "output_type": "execute_result"
    }
   ],
   "source": [
    "b64 = Base64.encode(io)"
   ]
  },
  {
   "cell_type": "code",
   "execution_count": 7,
   "id": "802ae4c8",
   "metadata": {
    "vscode": {
     "languageId": "crystal"
    }
   },
   "outputs": [
    {
     "data": {
      "text/html": [
       "<img src=\"data:image/png;base64,iVBORw0KGgoAAAANSUhEUgAAAEAAAABAEAYAAAD6+a2dAAAihElEQVR4nCXS\n",
       "ccezDgOG4Z/HTGYyk5nJzEwmMzNJkmRmJkmSJJNJkslMMkn21d/35rz+OT7A\n",
       "df7339/+97d//3A0wvEYBQEnE5xOURRxNsP5HCUJFwtcLnG1QlnG9Ro3G9xu\n",
       "cbdDRcH9HlUVDwc8HvF0wvMZNQ11HQ0DTRMtC20bHQcvF7xe8XbD+x1dFz0P\n",
       "fR+DAMMQowjjGJME0xQfD8wyfD4xz7EosCyxqvD1wrrG9xs/H2wabFv8frHr\n",
       "sO9xGPD3w7/7//0jAByNcDxGQcDJBKdTFEWczXA+R0nCxQKXS1ytUJZxvcbN\n",
       "Brdb3O1QUXC/R1XFwwGPRzyd8HxGTUNdR8NA00TLQttGx8HLBa9XvN3wfkfX\n",
       "Rc9D38cgwDDEKMI4xiTBNMXHA7MMn0/McywKLEusKny9sK7x/cbPB5sG2xa/\n",
       "X+w67HscBvz98C+A0YgAcDTC8RgFAScTnE5RFHE2w/kcJQkXC1wucbVCWcb1\n",
       "Gjcb3G5xt0NFwf0eVRUPBzwe8XTC8xk1DXUdDQNNEy0LbRsdBy8XvF7xdsP7\n",
       "HV0XPQ99H4MAwxCjCOMYkwTTFB8PzDJ8PjHPsSiwLLGq8PXCusb3Gz8fbBps\n",
       "W/x+seuw73EY8PfDvwDGYwLA0QjHYxQEnExwOkVRxNkM53OUJFwscLnE1Qpl\n",
       "Gddr3Gxwu8XdDhUF93tUVTwc8HjE0wnPZ9Q01HU0DDRNtCy0bXQcvFzwesXb\n",
       "De93dF30PPR9DAIMQ4wijGNMEkxTfDwwy/D5xDzHosCyxKrC1wvrGt9v/Hyw\n",
       "abBt8fvFrsO+x2HA3w//AhAEAsDRCMdjFAScTHA6RVHE2Qznc5QkXCxwucTV\n",
       "CmUZ12vcbHC7xd0OFQX3e1RVPBzweMTTCc9n1DTUdTQMNE20LLRtdBy8XPB6\n",
       "xdsN73d0XfQ89H0MAgxDjCKMY0wSTFN8PDDL8PnEPMeiwLLEqsLXC+sa32/8\n",
       "fLBpsG3x+8Wuw77HYcDfD/8CmEwIAEcjHI9REHAywekURRFnM5zPUZJwscDl\n",
       "ElcrlGVcr3Gzwe0WdztUFNzvUVXxcMDjEU8nPJ9R01DX0TDQNNGy0LbRcfBy\n",
       "wesVbze839F10fPQ9zEIMAwxijCOMUkwTfHxwCzD5xPzHIsCyxKrCl8vrGt8\n",
       "v/HzwabBtsXvF7sO+x6HAX8//AtgOiUAHI1wPEZBwMkEp1MURZzNcD5HScLF\n",
       "ApdLXK1QlnG9xs0Gt1vc7VBRcL9HVcXDAY9HPJ3wfEZNQ11Hw0DTRMtC20bH\n",
       "wcsFr1e83fB+R9dFz0PfxyDAMMQowjjGJME0xccDswyfT8xzLAosS6wqfL2w\n",
       "rvH9xs8HmwbbFr9f7DrsexwG/P3wLwBRJAAcjXA8RkHAyQSnUxRFnM1wPkdJ\n",
       "wsUCl0tcrVCWcb3GzQa3W9ztUFFwv0dVxcMBj0c8nfB8Rk1DXUfDQNNEy0Lb\n",
       "RsfBywWvV7zd8H5H10XPQ9/HIMAwxCjCOMYkwTTFxwOzDJ9PzHMsCixLrCp8\n",
       "vbCu8f3GzwebBtsWv1/sOux7HAb8/fAvgNmMAHA0wvEYBQEnE5xOURRxNsP5\n",
       "HCUJFwtcLnG1QlnG9Ro3G9xucbdDRcH9HlUVDwc8HvF0wvMZNQ11HQ0DTRMt\n",
       "C20bHQcvF7xe8XbD+x1dFz0PfR+DAMMQowjjGJME0xQfD8wyfD4xz7EosCyx\n",
       "qvD1wrrG9xs/H2wabFv8frHrsO9xGPD3w78A5nMCwNEIx2MUBJxMcDpFUcTZ\n",
       "DOdzlCRcLHC5xNUKZRnXa9xscLvF3Q4VBfd7VFU8HPB4xNMJz2fUNNR1NAw0\n",
       "TbQstG10HLxc8HrF2w3vd3Rd9Dz0fQwCDEOMIoxjTBJMU3w8MMvw+cQ8x6LA\n",
       "ssSqwtcL6xrfb/x8sGmwbfH7xa7DvsdhwN8P/wKQJALA0QjHYxQEnExwOkVR\n",
       "xNkM53OUJFwscLnE1QplGddr3Gxwu8XdDhUF93tUVTwc8HjE0wnPZ9Q01HU0\n",
       "DDRNtCy0bXQcvFzwesXbDe93dF30PPR9DAIMQ4wijGNMEkxTfDwwy/D5xDzH\n",
       "osCyxKrC1wvrGt9v/HywabBt8fvFrsO+x2HA3w//AlgsCABHIxyPURBwMsHp\n",
       "FEURZzOcz1GScLHA5RJXK5RlXK9xs8HtFnc7VBTc71FV8XDA4xFPJzyfUdNQ\n",
       "19Ew0DTRstC20XHwcsHrFW83vN/RddHz0PcxCDAMMYowjjFJME3x8cAsw+cT\n",
       "8xyLAssSqwpfL6xrfL/x88GmwbbF7xe7DvsehwF/P/wLYLkkAByNcDxGQcDJ\n",
       "BKdTFEWczXA+R0nCxQKXS1ytUJZxvcbNBrdb3O1QUXC/R1XFwwGPRzyd8HxG\n",
       "TUNdR8NA00TLQttGx8HLBa9XvN3wfkfXRc9D38cgwDDEKMI4xiTBNMXHA7MM\n",
       "n0/McywKLEusKny9sK7x/cbPB5sG2xa/X+w67HscBvz98C+A1YoAcDTC8RgF\n",
       "AScTnE5RFHE2w/kcJQkXC1wucbVCWcb1Gjcb3G5xt0NFwf0eVRUPBzwe8XTC\n",
       "8xk1DXUdDQNNEy0LbRsdBy8XvF7xdsP7HV0XPQ99H4MAwxCjCOMYkwTTFB8P\n",
       "zDJ8PjHPsSiwLLGq8PXCusb3Gz8fbBpsW/x+seuw73EY8PfDvwBkmQBwNMLx\n",
       "GAUBJxOcTlEUcTbD+RwlCRcLXC5xtUJZxvUaNxvcbnG3Q0XB/R5VFQ8HPB7x\n",
       "dMLzGTUNdR0NA00TLQttGx0HLxe8XvF2w/sdXRc9D30fgwDDEKMI4xiTBNMU\n",
       "Hw/MMnw+Mc+xKLAssarw9cK6xvcbPx9sGmxb/H6x67DvcRjw98O/ANZrAsDR\n",
       "CMdjFAScTHA6RVHE2Qznc5QkXCxwucTVCmUZ12vcbHC7xd0OFQX3e1RVPBzw\n",
       "eMTTCc9n1DTUdTQMNE20LLRtdBy8XPB6xdsN73d0XfQ89H0MAgxDjCKMY0wS\n",
       "TFN8PDDL8PnEPMeiwLLEqsLXC+sa32/8fLBpsG3x+8Wuw77HYcDfD/8C2GwI\n",
       "AEcjHI9REHAywekURRFnM5zPUZJwscDlElcrlGVcr3Gzwe0WdztUFNzvUVXx\n",
       "cMDjEU8nPJ9R01DX0TDQNNGy0LbRcfBywesVbze839F10fPQ9zEIMAwxijCO\n",
       "MUkwTfHxwCzD5xPzHIsCyxKrCl8vrGt8v/HzwabBtsXvF7sO+x6HAX8//Atg\n",
       "uyUAHI1wPEZBwMkEp1MURZzNcD5HScLFApdLXK1QlnG9xs0Gt1vc7VBRcL9H\n",
       "VcXDAY9HPJ3wfEZNQ11Hw0DTRMtC20bHwcsFr1e83fB+R9dFz0PfxyDAMMQo\n",
       "wjjGJME0xccDswyfT8xzLAosS6wqfL2wrvH9xs8HmwbbFr9f7DrsexwG/P3w\n",
       "L4DdjgBwNMLxGAUBJxOcTlEUcTbD+RwlCRcLXC5xtUJZxvUaNxvcbnG3Q0XB\n",
       "/R5VFQ8HPB7xdMLzGTUNdR0NA00TLQttGx0HLxe8XvF2w/sdXRc9D30fgwDD\n",
       "EKMI4xiTBNMUHw/MMnw+Mc+xKLAssarw9cK6xvcbPx9sGmxb/H6x67DvcRjw\n",
       "98O/ABSFAHA0wvEYBQEnE5xOURRxNsP5HCUJFwtcLnG1QlnG9Ro3G9xucbdD\n",
       "RcH9HlUVDwc8HvF0wvMZNQ11HQ0DTRMtC20bHQcvF7xe8XbD+x1dFz0PfR+D\n",
       "AMMQowjjGJME0xQfD8wyfD4xz7EosCyxqvD1wrrG9xs/H2wabFv8frHrsO9x\n",
       "GPD3w78A9nsCwNEIx2MUBJxMcDpFUcTZDOdzlCRcLHC5xNUKZRnXa9xscLvF\n",
       "3Q4VBfd7VFU8HPB4xNMJz2fUNNR1NAw0TbQstG10HLxc8HrF2w3vd3Rd9Dz0\n",
       "fQwCDEOMIoxjTBJMU3w8MMvw+cQ8x6LAssSqwtcL6xrfb/x8sGmwbfH7xa7D\n",
       "vsdhwN8P/wJQVQLA0QjHYxQEnExwOkVRxNkM53OUJFwscLnE1QplGddr3Gxw\n",
       "u8XdDhUF93tUVTwc8HjE0wnPZ9Q01HU0DDRNtCy0bXQcvFzwesXbDe93dF30\n",
       "PPR9DAIMQ4wijGNMEkxTfDwwy/D5xDzHosCyxKrC1wvrGt9v/HywabBt8fvF\n",
       "rsO+x2HA3w//AjgcCABHIxyPURBwMsHpFEURZzOcz1GScLHA5RJXK5RlXK9x\n",
       "s8HtFnc7VBTc71FV8XDA4xFPJzyfUdNQ19Ew0DTRstC20XHwcsHrFW83vN/R\n",
       "ddHz0PcxCDAMMYowjjFJME3x8cAsw+cT8xyLAssSqwpfL6xrfL/x88GmwbbF\n",
       "7xe7DvsehwF/P/wL4HgkAByNcDxGQcDJBKdTFEWczXA+R0nCxQKXS1ytUJZx\n",
       "vcbNBrdb3O1QUXC/R1XFwwGPRzyd8HxGTUNdR8NA00TLQttGx8HLBa9XvN3w\n",
       "fkfXRc9D38cgwDDEKMI4xiTBNMXHA7MMn0/McywKLEusKny9sK7x/cbPB5sG\n",
       "2xa/X+w67HscBvz98C+A04kAcDTC8RgFAScTnE5RFHE2w/kcJQkXC1wucbVC\n",
       "Wcb1Gjcb3G5xt0NFwf0eVRUPBzwe8XTC8xk1DXUdDQNNEy0LbRsdBy8XvF7x\n",
       "dsP7HV0XPQ99H4MAwxCjCOMYkwTTFB8PzDJ8PjHPsSiwLLGq8PXCusb3Gz8f\n",
       "bBpsW/x+seuw73EY8PfDvwDOZwLA0QjHYxQEnExwOkVRxNkM53OUJFwscLnE\n",
       "1QplGddr3Gxwu8XdDhUF93tUVTwc8HjE0wnPZ9Q01HU0DDRNtCy0bXQcvFzw\n",
       "esXbDe93dF30PPR9DAIMQ4wijGNMEkxTfDwwy/D5xDzHosCyxKrC1wvrGt9v\n",
       "/HywabBt8fvFrsO+x2HA3w//AtA0AsDRCMdjFAScTHA6RVHE2Qznc5QkXCxw\n",
       "ucTVCmUZ12vcbHC7xd0OFQX3e1RVPBzweMTTCc9n1DTUdTQMNE20LLRtdBy8\n",
       "XPB6xdsN73d0XfQ89H0MAgxDjCKMY0wSTFN8PDDL8PnEPMeiwLLEqsLXC+sa\n",
       "32/8fLBpsG3x+8Wuw77HYcDfD/8C0HUCwNEIx2MUBJxMcDpFUcTZDOdzlCRc\n",
       "LHC5xNUKZRnXa9xscLvF3Q4VBfd7VFU8HPB4xNMJz2fUNNR1NAw0TbQstG10\n",
       "HLxc8HrF2w3vd3Rd9Dz0fQwCDEOMIoxjTBJMU3w8MMvw+cQ8x6LAssSqwtcL\n",
       "6xrfb/x8sGmwbfH7xa7DvsdhwN8P/wIwDALA0QjHYxQEnExwOkVRxNkM53OU\n",
       "JFwscLnE1QplGddr3Gxwu8XdDhUF93tUVTwc8HjE0wnPZ9Q01HU0DDRNtCy0\n",
       "bXQcvFzwesXbDe93dF30PPR9DAIMQ4wijGNMEkxTfDwwy/D5xDzHosCyxKrC\n",
       "1wvrGt9v/HywabBt8fvFrsO+x2HA3w//AjBNAsDRCMdjFAScTHA6RVHE2Qzn\n",
       "c5QkXCxwucTVCmUZ12vcbHC7xd0OFQX3e1RVPBzweMTTCc9n1DTUdTQMNE20\n",
       "LLRtdBy8XPB6xdsN73d0XfQ89H0MAgxDjCKMY0wSTFN8PDDL8PnEPMeiwLLE\n",
       "qsLXC+sa32/8fLBpsG3x+8Wuw77HYcDfD/8CsCwCwNEIx2MUBJxMcDpFUcTZ\n",
       "DOdzlCRcLHC5xNUKZRnXa9xscLvF3Q4VBfd7VFU8HPB4xNMJz2fUNNR1NAw0\n",
       "TbQstG10HLxc8HrF2w3vd3Rd9Dz0fQwCDEOMIoxjTBJMU3w8MMvw+cQ8x6LA\n",
       "ssSqwtcL6xrfb/x8sGmwbfH7xa7DvsdhwN8P/wKwbQLA0QjHYxQEnExwOkVR\n",
       "xNkM53OUJFwscLnE1QplGddr3Gxwu8XdDhUF93tUVTwc8HjE0wnPZ9Q01HU0\n",
       "DDRNtCy0bXQcvFzwesXbDe93dF30PPR9DAIMQ4wijGNMEkxTfDwwy/D5xDzH\n",
       "osCyxKrC1wvrGt9v/HywabBt8fvFrsO+x2HA3w//AnAcAsDRCMdjFAScTHA6\n",
       "RVHE2Qznc5QkXCxwucTVCmUZ12vcbHC7xd0OFQX3e1RVPBzweMTTCc9n1DTU\n",
       "dTQMNE20LLRtdBy8XPB6xdsN73d0XfQ89H0MAgxDjCKMY0wSTFN8PDDL8PnE\n",
       "PMeiwLLEqsLXC+sa32/8fLBpsG3x+8Wuw77HYcDfD/8CuFwIAEcjHI9REHAy\n",
       "wekURRFnM5zPUZJwscDlElcrlGVcr3Gzwe0WdztUFNzvUVXxcMDjEU8nPJ9R\n",
       "01DX0TDQNNGy0LbRcfBywesVbze839F10fPQ9zEIMAwxijCOMUkwTfHxwCzD\n",
       "5xPzHIsCyxKrCl8vrGt8v/HzwabBtsXvF7sO+x6HAX8//AvgeiUAHI1wPEZB\n",
       "wMkEp1MURZzNcD5HScLFApdLXK1QlnG9xs0Gt1vc7VBRcL9HVcXDAY9HPJ3w\n",
       "fEZNQ11Hw0DTRMtC20bHwcsFr1e83fB+R9dFz0PfxyDAMMQowjjGJME0xccD\n",
       "swyfT8xzLAosS6wqfL2wrvH9xs8HmwbbFr9f7DrsexwG/P3wL4DbjQBwNMLx\n",
       "GAUBJxOcTlEUcTbD+RwlCRcLXC5xtUJZxvUaNxvcbnG3Q0XB/R5VFQ8HPB7x\n",
       "dMLzGTUNdR0NA00TLQttGx0HLxe8XvF2w/sdXRc9D30fgwDDEKMI4xiTBNMU\n",
       "Hw/MMnw+Mc+xKLAssarw9cK6xvcbPx9sGmxb/H6x67DvcRjw98O/AO53AsDR\n",
       "CMdjFAScTHA6RVHE2Qznc5QkXCxwucTVCmUZ12vcbHC7xd0OFQX3e1RVPBzw\n",
       "eMTTCc9n1DTUdTQMNE20LLRtdBy8XPB6xdsN73d0XfQ89H0MAgxDjCKMY0wS\n",
       "TFN8PDDL8PnEPMeiwLLEqsLXC+sa32/8fLBpsG3x+8Wuw77HYcDfD/8CcF0C\n",
       "wNEIx2MUBJxMcDpFUcTZDOdzlCRcLHC5xNUKZRnXa9xscLvF3Q4VBfd7VFU8\n",
       "HPB4xNMJz2fUNNR1NAw0TbQstG10HLxc8HrF2w3vd3Rd9Dz0fQwCDEOMIoxj\n",
       "TBJMU3w8MMvw+cQ8x6LAssSqwtcL6xrfb/x8sGmwbfH7xa7DvsdhwN8P/wLw\n",
       "PALA0QjHYxQEnExwOkVRxNkM53OUJFwscLnE1QplGddr3Gxwu8XdDhUF93tU\n",
       "VTwc8HjE0wnPZ9Q01HU0DDRNtCy0bXQcvFzwesXbDe93dF30PPR9DAIMQ4wi\n",
       "jGNMEkxTfDwwy/D5xDzHosCyxKrC1wvrGt9v/HywabBt8fvFrsO+x2HA3w//\n",
       "AvB9AsDRCMdjFAScTHA6RVHE2Qznc5QkXCxwucTVCmUZ12vcbHC7xd0OFQX3\n",
       "e1RVPBzweMTTCc9n1DTUdTQMNE20LLRtdBy8XPB6xdsN73d0XfQ89H0MAgxD\n",
       "jCKMY0wSTFN8PDDL8PnEPMeiwLLEqsLXC+sa32/8fLBpsG3x+8Wuw77HYcDf\n",
       "D/8CCAICwNEIx2MUBJxMcDpFUcTZDOdzlCRcLHC5xNUKZRnXa9xscLvF3Q4V\n",
       "Bfd7VFU8HPB4xNMJz2fUNNR1NAw0TbQstG10HLxc8HrF2w3vd3Rd9Dz0fQwC\n",
       "DEOMIoxjTBJMU3w8MMvw+cQ8x6LAssSqwtcL6xrfb/x8sGmwbfH7xa7Dvsdh\n",
       "wN8P/wIIQwLA0QjHYxQEnExwOkVRxNkM53OUJFwscLnE1QplGddr3Gxwu8Xd\n",
       "DhUF93tUVTwc8HjE0wnPZ9Q01HU0DDRNtCy0bXQcvFzwesXbDe93dF30PPR9\n",
       "DAIMQ4wijGNMEkxTfDwwy/D5xDzHosCyxKrC1wvrGt9v/HywabBt8fvFrsO+\n",
       "x2HA3w//AogiAsDRCMdjFAScTHA6RVHE2Qznc5QkXCxwucTVCmUZ12vcbHC7\n",
       "xd0OFQX3e1RVPBzweMTTCc9n1DTUdTQMNE20LLRtdBy8XPB6xdsN73d0XfQ8\n",
       "9H0MAgxDjCKMY0wSTFN8PDDL8PnEPMeiwLLEqsLXC+sa32/8fLBpsG3x+8Wu\n",
       "w77HYcDfD/8CiGMCwNEIx2MUBJxMcDpFUcTZDOdzlCRcLHC5xNUKZRnXa9xs\n",
       "cLvF3Q4VBfd7VFU8HPB4xNMJz2fUNNR1NAw0TbQstG10HLxc8HrF2w3vd3Rd\n",
       "9Dz0fQwCDEOMIoxjTBJMU3w8MMvw+cQ8x6LAssSqwtcL6xrfb/x8sGmwbfH7\n",
       "xa7DvsdhwN8P/wJIEgLA0QjHYxQEnExwOkVRxNkM53OUJFwscLnE1QplGddr\n",
       "3Gxwu8XdDhUF93tUVTwc8HjE0wnPZ9Q01HU0DDRNtCy0bXQcvFzwesXbDe93\n",
       "dF30PPR9DAIMQ4wijGNMEkxTfDwwy/D5xDzHosCyxKrC1wvrGt9v/HywabBt\n",
       "8fvFrsO+x2HA3w//AkhTAsDRCMdjFAScTHA6RVHE2Qznc5QkXCxwucTVCmUZ\n",
       "12vcbHC7xd0OFQX3e1RVPBzweMTTCc9n1DTUdTQMNE20LLRtdBy8XPB6xdsN\n",
       "73d0XfQ89H0MAgxDjCKMY0wSTFN8PDDL8PnEPMeiwLLEqsLXC+sa32/8fLBp\n",
       "sG3x+8Wuw77HYcDfD/8CeDwIAEcjHI9REHAywekURRFnM5zPUZJwscDlElcr\n",
       "lGVcr3Gzwe0WdztUFNzvUVXxcMDjEU8nPJ9R01DX0TDQNNGy0LbRcfBywesV\n",
       "bze839F10fPQ9zEIMAwxijCOMUkwTfHxwCzD5xPzHIsCyxKrCl8vrGt8v/Hz\n",
       "wabBtsXvF7sO+x6HAX8//AsgywgARyMcj1EQcDLB6RRFEWcznM9RknCxwOUS\n",
       "VyuUZVyvcbPB7RZ3O1QU3O9RVfFwwOMRTyc8n1HTUNfRMNA00bLQttFx8HLB\n",
       "6xVvN7zf0XXR89D3MQgwDDGKMI4xSTBN8fHALMPnE/MciwLLEqsKXy+sa3y/\n",
       "8fPBpsG2xe8Xuw77HocBfz/8C+D5JAAcjXA8RkHAyQSnUxRFnM1wPkdJwsUC\n",
       "l0tcrVCWcb3GzQa3W9ztUFFwv0dVxcMBj0c8nfB8Rk1DXUfDQNNEy0LbRsfB\n",
       "ywWvV7zd8H5H10XPQ9/HIMAwxCjCOMYkwTTFxwOzDJ9PzHMsCixLrCp8vbCu\n",
       "8f3GzwebBtsWv1/sOux7HAb8/fAvgDwnAByNcDxGQcDJBKdTFEWczXA+R0nC\n",
       "xQKXS1ytUJZxvcbNBrdb3O1QUXC/R1XFwwGPRzyd8HxGTUNdR8NA00TLQttG\n",
       "x8HLBa9XvN3wfkfXRc9D38cgwDDEKMI4xiTBNMXHA7MMn0/McywKLEusKny9\n",
       "sK7x/cbPB5sG2xa/X+w67HscBvz98C+AoiAAHI1wPEZBwMkEp1MURZzNcD5H\n",
       "ScLFApdLXK1QlnG9xs0Gt1vc7VBRcL9HVcXDAY9HPJ3wfEZNQ11Hw0DTRMtC\n",
       "20bHwcsFr1e83fB+R9dFz0PfxyDAMMQowjjGJME0xccDswyfT8xzLAosS6wq\n",
       "fL2wrvH9xs8HmwbbFr9f7DrsexwG/P3wL4CyJAAcjXA8RkHAyQSnUxRFnM1w\n",
       "PkdJwsUCl0tcrVCWcb3GzQa3W9ztUFFwv0dVxcMBj0c8nfB8Rk1DXUfDQNNE\n",
       "y0LbRsfBywWvV7zd8H5H10XPQ9/HIMAwxCjCOMYkwTTFxwOzDJ9PzHMsCixL\n",
       "rCp8vbCu8f3GzwebBtsWv1/sOux7HAb8/fAvgKoiAByNcDxGQcDJBKdTFEWc\n",
       "zXA+R0nCxQKXS1ytUJZxvcbNBrdb3O1QUXC/R1XFwwGPRzyd8HxGTUNdR8NA\n",
       "00TLQttGx8HLBa9XvN3wfkfXRc9D38cgwDDEKMI4xiTBNMXHA7MMn0/McywK\n",
       "LEusKny9sK7x/cbPB5sG2xa/X+w67HscBvz98C+A14sAcDTC8RgFAScTnE5R\n",
       "FHE2w/kcJQkXC1wucbVCWcb1Gjcb3G5xt0NFwf0eVRUPBzwe8XTC8xk1DXUd\n",
       "DQNNEy0LbRsdBy8XvF7xdsP7HV0XPQ99H4MAwxCjCOMYkwTTFB8PzDJ8PjHP\n",
       "sSiwLLGq8PXCusb3Gz8fbBpsW/x+seuw73EY8PfDvwDqmgBwNMLxGAUBJxOc\n",
       "TlEUcTbD+RwlCRcLXC5xtUJZxvUaNxvcbnG3Q0XB/R5VFQ8HPB7xdMLzGTUN\n",
       "dR0NA00TLQttGx0HLxe8XvF2w/sdXRc9D30fgwDDEKMI4xiTBNMUHw/MMnw+\n",
       "Mc+xKLAssarw9cK6xvcbPx9sGmxb/H6x67DvcRjw98O/AN5vAsDRCMdjFASc\n",
       "THA6RVHE2Qznc5QkXCxwucTVCmUZ12vcbHC7xd0OFQX3e1RVPBzweMTTCc9n\n",
       "1DTUdTQMNE20LLRtdBy8XPB6xdsN73d0XfQ89H0MAgxDjCKMY0wSTFN8PDDL\n",
       "8PnEPMeiwLLEqsLXC+sa32/8fLBpsG3x+8Wuw77HYcDfD/8C+HwIAEcjHI9R\n",
       "EHAywekURRFnM5zPUZJwscDlElcrlGVcr3Gzwe0WdztUFNzvUVXxcMDjEU8n\n",
       "PJ9R01DX0TDQNNGy0LbRcfBywesVbze839F10fPQ9zEIMAwxijCOMUkwTfHx\n",
       "wCzD5xPzHIsCyxKrCl8vrGt8v/HzwabBtsXvF7sO+x6HAX8//AugaQgARyMc\n",
       "j1EQcDLB6RRFEWcznM9RknCxwOUSVyuUZVyvcbPB7RZ3O1QU3O9RVfFwwOMR\n",
       "Tyc8n1HTUNfRMNA00bLQttFx8HLB6xVvN7zf0XXR89D3MQgwDDGKMI4xSTBN\n",
       "8fHALMPnE/MciwLLEqsKXy+sa3y/8fPBpsG2xe8Xuw77HocBfz/8C6BtCQBH\n",
       "IxyPURBwMsHpFEURZzOcz1GScLHA5RJXK5RlXK9xs8HtFnc7VBTc71FV8XDA\n",
       "4xFPJzyfUdNQ19Ew0DTRstC20XHwcsHrFW83vN/RddHz0PcxCDAMMYowjjFJ\n",
       "ME3x8cAsw+cT8xyLAssSqwpfL6xrfL/x88GmwbbF7xe7DvsehwF/P/wL4Psl\n",
       "AByNcDxGQcDJBKdTFEWczXA+R0nCxQKXS1ytUJZxvcbNBrdb3O1QUXC/R1XF\n",
       "wwGPRzyd8HxGTUNdR8NA00TLQttGx8HLBa9XvN3wfkfXRc9D38cgwDDEKMI4\n",
       "xiTBNMXHA7MMn0/McywKLEusKny9sK7x/cbPB5sG2xa/X+w67HscBvz98C+A\n",
       "riMAHI1wPEZBwMkEp1MURZzNcD5HScLFApdLXK1QlnG9xs0Gt1vc7VBRcL9H\n",
       "VcXDAY9HPJ3wfEZNQ11Hw0DTRMtC20bHwcsFr1e83fB+R9dFz0PfxyDAMMQo\n",
       "wjjGJME0xccDswyfT8xzLAosS6wqfL2wrvH9xs8HmwbbFr9f7DrsexwG/P3w\n",
       "L4C+JwAcjXA8RkHAyQSnUxRFnM1wPkdJwsUCl0tcrVCWcb3GzQa3W9ztUFFw\n",
       "v0dVxcMBj0c8nfB8Rk1DXUfDQNNEy0LbRsfBywWvV7zd8H5H10XPQ9/HIMAw\n",
       "xCjCOMYkwTTFxwOzDJ9PzHMsCixLrCp8vbCu8f3GzwebBtsWv1/sOux7HAb8\n",
       "/fAvgGEgAByNcDxGQcDJBKdTFEWczXA+R0nCxQKXS1ytUJZxvcbNBrdb3O1Q\n",
       "UXC/R1XFwwGPRzyd8HxGTUNdR8NA00TLQttGx8HLBa9XvN3wfkfXRc9D38cg\n",
       "wDDEKMI4xiTBNMXHA7MMn0/McywKLEusKny9sK7x/cbPB5sG2xa/X+w67Hsc\n",
       "Bvz98C+A348AcDTC8RgFAScTnE5RFHE2w/kcJQkXC1wucbVCWcb1Gjcb3G5x\n",
       "t0NFwf0eVRUPBzwe8XTC8xk1DXUdDQNNEy0LbRsdBy8XvF7xdsP7HV0XPQ99\n",
       "H4MAwxCjCOMYkwTTFB8PzDJ8PjHPsSiwLLGq8PXCusb3Gz8fbBpsW/x+seuw\n",
       "73EY8PfD/wNEP4Si5DiuWQAAAABJRU5ErkJggg==\n",
       "\"/>"
      ]
     },
     "execution_count": 7,
     "metadata": {},
     "output_type": "execute_result"
    }
   ],
   "source": [
    "ICrystal.html %(<img src=\"data:image/png;base64,#{b64}\"/>)"
   ]
  },
  {
   "cell_type": "code",
   "execution_count": 8,
   "id": "2b22b908-b649-4d3e-b793-382160355d86",
   "metadata": {
    "vscode": {
     "languageId": "crystal"
    }
   },
   "outputs": [],
   "source": [
    "require \"qr-code\"\n",
    "require \"qr-code/export/png\""
   ]
  },
  {
   "cell_type": "code",
   "execution_count": 9,
   "id": "8707caed-5d67-4960-b0fe-e6e8bed2df81",
   "metadata": {
    "vscode": {
     "languageId": "crystal"
    }
   },
   "outputs": [
    {
     "data": {
      "text/plain": [
       "QRCode: @data='Crystal', @error_correct_level=2, @version=1, @module_count=21"
      ]
     },
     "execution_count": 9,
     "metadata": {},
     "output_type": "execute_result"
    }
   ],
   "source": [
    "qr = QRCode.new(\"Crystal\")"
   ]
  },
  {
   "cell_type": "code",
   "execution_count": 10,
   "id": "2f23bff7-014f-4795-be35-195315b8fa56",
   "metadata": {
    "vscode": {
     "languageId": "crystal"
    }
   },
   "outputs": [
    {
     "data": {
      "image/svg+xml": [
       "<?xml version=\"1.0\" standalone=\"yes\"?>\n",
       "<svg version=\"1.1\" xmlns=\"http://www.w3.org/2000/svg\" xmlns:xlink=\"http://www.w3.org/1999/xlink\" xmlns:ev=\"http://www.w3.org/2001/xml-events\" width=\"231\" height=\"231\" shape-rendering=\"crispEdges\">\n",
       "<rect width=\"231\" height=\"231\" x=\"0\" y=\"0\" style=\"fill:#fff\"/>\n",
       "<rect width=\"11\" height=\"11\" x=\"0\" y=\"0\" style=\"fill:#000\"/><rect width=\"11\" height=\"11\" x=\"11\" y=\"0\" style=\"fill:#000\"/><rect width=\"11\" height=\"11\" x=\"22\" y=\"0\" style=\"fill:#000\"/><rect width=\"11\" height=\"11\" x=\"33\" y=\"0\" style=\"fill:#000\"/><rect width=\"11\" height=\"11\" x=\"44\" y=\"0\" style=\"fill:#000\"/><rect width=\"11\" height=\"11\" x=\"55\" y=\"0\" style=\"fill:#000\"/><rect width=\"11\" height=\"11\" x=\"66\" y=\"0\" style=\"fill:#000\"/><rect width=\"11\" height=\"11\" x=\"99\" y=\"0\" style=\"fill:#000\"/><rect width=\"11\" height=\"11\" x=\"110\" y=\"0\" style=\"fill:#000\"/><rect width=\"11\" height=\"11\" x=\"121\" y=\"0\" style=\"fill:#000\"/><rect width=\"11\" height=\"11\" x=\"154\" y=\"0\" style=\"fill:#000\"/><rect width=\"11\" height=\"11\" x=\"165\" y=\"0\" style=\"fill:#000\"/><rect width=\"11\" height=\"11\" x=\"176\" y=\"0\" style=\"fill:#000\"/><rect width=\"11\" height=\"11\" x=\"187\" y=\"0\" style=\"fill:#000\"/><rect width=\"11\" height=\"11\" x=\"198\" y=\"0\" style=\"fill:#000\"/><rect width=\"11\" height=\"11\" x=\"209\" y=\"0\" style=\"fill:#000\"/><rect width=\"11\" height=\"11\" x=\"220\" y=\"0\" style=\"fill:#000\"/>\n",
       "<rect width=\"11\" height=\"11\" x=\"0\" y=\"11\" style=\"fill:#000\"/><rect width=\"11\" height=\"11\" x=\"66\" y=\"11\" style=\"fill:#000\"/><rect width=\"11\" height=\"11\" x=\"110\" y=\"11\" style=\"fill:#000\"/><rect width=\"11\" height=\"11\" x=\"132\" y=\"11\" style=\"fill:#000\"/><rect width=\"11\" height=\"11\" x=\"154\" y=\"11\" style=\"fill:#000\"/><rect width=\"11\" height=\"11\" x=\"220\" y=\"11\" style=\"fill:#000\"/>\n",
       "<rect width=\"11\" height=\"11\" x=\"0\" y=\"22\" style=\"fill:#000\"/><rect width=\"11\" height=\"11\" x=\"22\" y=\"22\" style=\"fill:#000\"/><rect width=\"11\" height=\"11\" x=\"33\" y=\"22\" style=\"fill:#000\"/><rect width=\"11\" height=\"11\" x=\"44\" y=\"22\" style=\"fill:#000\"/><rect width=\"11\" height=\"11\" x=\"66\" y=\"22\" style=\"fill:#000\"/><rect width=\"11\" height=\"11\" x=\"88\" y=\"22\" style=\"fill:#000\"/><rect width=\"11\" height=\"11\" x=\"99\" y=\"22\" style=\"fill:#000\"/><rect width=\"11\" height=\"11\" x=\"110\" y=\"22\" style=\"fill:#000\"/><rect width=\"11\" height=\"11\" x=\"121\" y=\"22\" style=\"fill:#000\"/><rect width=\"11\" height=\"11\" x=\"132\" y=\"22\" style=\"fill:#000\"/><rect width=\"11\" height=\"11\" x=\"154\" y=\"22\" style=\"fill:#000\"/><rect width=\"11\" height=\"11\" x=\"176\" y=\"22\" style=\"fill:#000\"/><rect width=\"11\" height=\"11\" x=\"187\" y=\"22\" style=\"fill:#000\"/><rect width=\"11\" height=\"11\" x=\"198\" y=\"22\" style=\"fill:#000\"/><rect width=\"11\" height=\"11\" x=\"220\" y=\"22\" style=\"fill:#000\"/>\n",
       "<rect width=\"11\" height=\"11\" x=\"0\" y=\"33\" style=\"fill:#000\"/><rect width=\"11\" height=\"11\" x=\"22\" y=\"33\" style=\"fill:#000\"/><rect width=\"11\" height=\"11\" x=\"33\" y=\"33\" style=\"fill:#000\"/><rect width=\"11\" height=\"11\" x=\"44\" y=\"33\" style=\"fill:#000\"/><rect width=\"11\" height=\"11\" x=\"66\" y=\"33\" style=\"fill:#000\"/><rect width=\"11\" height=\"11\" x=\"88\" y=\"33\" style=\"fill:#000\"/><rect width=\"11\" height=\"11\" x=\"121\" y=\"33\" style=\"fill:#000\"/><rect width=\"11\" height=\"11\" x=\"132\" y=\"33\" style=\"fill:#000\"/><rect width=\"11\" height=\"11\" x=\"154\" y=\"33\" style=\"fill:#000\"/><rect width=\"11\" height=\"11\" x=\"176\" y=\"33\" style=\"fill:#000\"/><rect width=\"11\" height=\"11\" x=\"187\" y=\"33\" style=\"fill:#000\"/><rect width=\"11\" height=\"11\" x=\"198\" y=\"33\" style=\"fill:#000\"/><rect width=\"11\" height=\"11\" x=\"220\" y=\"33\" style=\"fill:#000\"/>\n",
       "<rect width=\"11\" height=\"11\" x=\"0\" y=\"44\" style=\"fill:#000\"/><rect width=\"11\" height=\"11\" x=\"22\" y=\"44\" style=\"fill:#000\"/><rect width=\"11\" height=\"11\" x=\"33\" y=\"44\" style=\"fill:#000\"/><rect width=\"11\" height=\"11\" x=\"44\" y=\"44\" style=\"fill:#000\"/><rect width=\"11\" height=\"11\" x=\"66\" y=\"44\" style=\"fill:#000\"/><rect width=\"11\" height=\"11\" x=\"110\" y=\"44\" style=\"fill:#000\"/><rect width=\"11\" height=\"11\" x=\"154\" y=\"44\" style=\"fill:#000\"/><rect width=\"11\" height=\"11\" x=\"176\" y=\"44\" style=\"fill:#000\"/><rect width=\"11\" height=\"11\" x=\"187\" y=\"44\" style=\"fill:#000\"/><rect width=\"11\" height=\"11\" x=\"198\" y=\"44\" style=\"fill:#000\"/><rect width=\"11\" height=\"11\" x=\"220\" y=\"44\" style=\"fill:#000\"/>\n",
       "<rect width=\"11\" height=\"11\" x=\"0\" y=\"55\" style=\"fill:#000\"/><rect width=\"11\" height=\"11\" x=\"66\" y=\"55\" style=\"fill:#000\"/><rect width=\"11\" height=\"11\" x=\"110\" y=\"55\" style=\"fill:#000\"/><rect width=\"11\" height=\"11\" x=\"121\" y=\"55\" style=\"fill:#000\"/><rect width=\"11\" height=\"11\" x=\"154\" y=\"55\" style=\"fill:#000\"/><rect width=\"11\" height=\"11\" x=\"220\" y=\"55\" style=\"fill:#000\"/>\n",
       "<rect width=\"11\" height=\"11\" x=\"0\" y=\"66\" style=\"fill:#000\"/><rect width=\"11\" height=\"11\" x=\"11\" y=\"66\" style=\"fill:#000\"/><rect width=\"11\" height=\"11\" x=\"22\" y=\"66\" style=\"fill:#000\"/><rect width=\"11\" height=\"11\" x=\"33\" y=\"66\" style=\"fill:#000\"/><rect width=\"11\" height=\"11\" x=\"44\" y=\"66\" style=\"fill:#000\"/><rect width=\"11\" height=\"11\" x=\"55\" y=\"66\" style=\"fill:#000\"/><rect width=\"11\" height=\"11\" x=\"66\" y=\"66\" style=\"fill:#000\"/><rect width=\"11\" height=\"11\" x=\"88\" y=\"66\" style=\"fill:#000\"/><rect width=\"11\" height=\"11\" x=\"110\" y=\"66\" style=\"fill:#000\"/><rect width=\"11\" height=\"11\" x=\"132\" y=\"66\" style=\"fill:#000\"/><rect width=\"11\" height=\"11\" x=\"154\" y=\"66\" style=\"fill:#000\"/><rect width=\"11\" height=\"11\" x=\"165\" y=\"66\" style=\"fill:#000\"/><rect width=\"11\" height=\"11\" x=\"176\" y=\"66\" style=\"fill:#000\"/><rect width=\"11\" height=\"11\" x=\"187\" y=\"66\" style=\"fill:#000\"/><rect width=\"11\" height=\"11\" x=\"198\" y=\"66\" style=\"fill:#000\"/><rect width=\"11\" height=\"11\" x=\"209\" y=\"66\" style=\"fill:#000\"/><rect width=\"11\" height=\"11\" x=\"220\" y=\"66\" style=\"fill:#000\"/>\n",
       "<rect width=\"11\" height=\"11\" x=\"99\" y=\"77\" style=\"fill:#000\"/><rect width=\"11\" height=\"11\" x=\"110\" y=\"77\" style=\"fill:#000\"/><rect width=\"11\" height=\"11\" x=\"132\" y=\"77\" style=\"fill:#000\"/>\n",
       "<rect width=\"11\" height=\"11\" x=\"33\" y=\"88\" style=\"fill:#000\"/><rect width=\"11\" height=\"11\" x=\"44\" y=\"88\" style=\"fill:#000\"/><rect width=\"11\" height=\"11\" x=\"66\" y=\"88\" style=\"fill:#000\"/><rect width=\"11\" height=\"11\" x=\"77\" y=\"88\" style=\"fill:#000\"/><rect width=\"11\" height=\"11\" x=\"110\" y=\"88\" style=\"fill:#000\"/><rect width=\"11\" height=\"11\" x=\"132\" y=\"88\" style=\"fill:#000\"/><rect width=\"11\" height=\"11\" x=\"187\" y=\"88\" style=\"fill:#000\"/><rect width=\"11\" height=\"11\" x=\"198\" y=\"88\" style=\"fill:#000\"/>\n",
       "<rect width=\"11\" height=\"11\" x=\"0\" y=\"99\" style=\"fill:#000\"/><rect width=\"11\" height=\"11\" x=\"11\" y=\"99\" style=\"fill:#000\"/><rect width=\"11\" height=\"11\" x=\"22\" y=\"99\" style=\"fill:#000\"/><rect width=\"11\" height=\"11\" x=\"55\" y=\"99\" style=\"fill:#000\"/><rect width=\"11\" height=\"11\" x=\"88\" y=\"99\" style=\"fill:#000\"/><rect width=\"11\" height=\"11\" x=\"132\" y=\"99\" style=\"fill:#000\"/><rect width=\"11\" height=\"11\" x=\"143\" y=\"99\" style=\"fill:#000\"/><rect width=\"11\" height=\"11\" x=\"176\" y=\"99\" style=\"fill:#000\"/><rect width=\"11\" height=\"11\" x=\"198\" y=\"99\" style=\"fill:#000\"/><rect width=\"11\" height=\"11\" x=\"209\" y=\"99\" style=\"fill:#000\"/>\n",
       "<rect width=\"11\" height=\"11\" x=\"0\" y=\"110\" style=\"fill:#000\"/><rect width=\"11\" height=\"11\" x=\"22\" y=\"110\" style=\"fill:#000\"/><rect width=\"11\" height=\"11\" x=\"33\" y=\"110\" style=\"fill:#000\"/><rect width=\"11\" height=\"11\" x=\"66\" y=\"110\" style=\"fill:#000\"/><rect width=\"11\" height=\"11\" x=\"99\" y=\"110\" style=\"fill:#000\"/><rect width=\"11\" height=\"11\" x=\"154\" y=\"110\" style=\"fill:#000\"/><rect width=\"11\" height=\"11\" x=\"165\" y=\"110\" style=\"fill:#000\"/><rect width=\"11\" height=\"11\" x=\"187\" y=\"110\" style=\"fill:#000\"/><rect width=\"11\" height=\"11\" x=\"209\" y=\"110\" style=\"fill:#000\"/><rect width=\"11\" height=\"11\" x=\"220\" y=\"110\" style=\"fill:#000\"/>\n",
       "<rect width=\"11\" height=\"11\" x=\"0\" y=\"121\" style=\"fill:#000\"/><rect width=\"11\" height=\"11\" x=\"55\" y=\"121\" style=\"fill:#000\"/><rect width=\"11\" height=\"11\" x=\"77\" y=\"121\" style=\"fill:#000\"/><rect width=\"11\" height=\"11\" x=\"88\" y=\"121\" style=\"fill:#000\"/><rect width=\"11\" height=\"11\" x=\"99\" y=\"121\" style=\"fill:#000\"/><rect width=\"11\" height=\"11\" x=\"110\" y=\"121\" style=\"fill:#000\"/><rect width=\"11\" height=\"11\" x=\"132\" y=\"121\" style=\"fill:#000\"/><rect width=\"11\" height=\"11\" x=\"154\" y=\"121\" style=\"fill:#000\"/><rect width=\"11\" height=\"11\" x=\"176\" y=\"121\" style=\"fill:#000\"/><rect width=\"11\" height=\"11\" x=\"198\" y=\"121\" style=\"fill:#000\"/><rect width=\"11\" height=\"11\" x=\"209\" y=\"121\" style=\"fill:#000\"/><rect width=\"11\" height=\"11\" x=\"220\" y=\"121\" style=\"fill:#000\"/>\n",
       "<rect width=\"11\" height=\"11\" x=\"0\" y=\"132\" style=\"fill:#000\"/><rect width=\"11\" height=\"11\" x=\"11\" y=\"132\" style=\"fill:#000\"/><rect width=\"11\" height=\"11\" x=\"33\" y=\"132\" style=\"fill:#000\"/><rect width=\"11\" height=\"11\" x=\"44\" y=\"132\" style=\"fill:#000\"/><rect width=\"11\" height=\"11\" x=\"55\" y=\"132\" style=\"fill:#000\"/><rect width=\"11\" height=\"11\" x=\"66\" y=\"132\" style=\"fill:#000\"/><rect width=\"11\" height=\"11\" x=\"77\" y=\"132\" style=\"fill:#000\"/><rect width=\"11\" height=\"11\" x=\"88\" y=\"132\" style=\"fill:#000\"/><rect width=\"11\" height=\"11\" x=\"99\" y=\"132\" style=\"fill:#000\"/><rect width=\"11\" height=\"11\" x=\"110\" y=\"132\" style=\"fill:#000\"/><rect width=\"11\" height=\"11\" x=\"121\" y=\"132\" style=\"fill:#000\"/><rect width=\"11\" height=\"11\" x=\"132\" y=\"132\" style=\"fill:#000\"/><rect width=\"11\" height=\"11\" x=\"143\" y=\"132\" style=\"fill:#000\"/><rect width=\"11\" height=\"11\" x=\"209\" y=\"132\" style=\"fill:#000\"/><rect width=\"11\" height=\"11\" x=\"220\" y=\"132\" style=\"fill:#000\"/>\n",
       "<rect width=\"11\" height=\"11\" x=\"88\" y=\"143\" style=\"fill:#000\"/><rect width=\"11\" height=\"11\" x=\"99\" y=\"143\" style=\"fill:#000\"/><rect width=\"11\" height=\"11\" x=\"121\" y=\"143\" style=\"fill:#000\"/><rect width=\"11\" height=\"11\" x=\"143\" y=\"143\" style=\"fill:#000\"/><rect width=\"11\" height=\"11\" x=\"154\" y=\"143\" style=\"fill:#000\"/><rect width=\"11\" height=\"11\" x=\"176\" y=\"143\" style=\"fill:#000\"/><rect width=\"11\" height=\"11\" x=\"209\" y=\"143\" style=\"fill:#000\"/><rect width=\"11\" height=\"11\" x=\"220\" y=\"143\" style=\"fill:#000\"/>\n",
       "<rect width=\"11\" height=\"11\" x=\"0\" y=\"154\" style=\"fill:#000\"/><rect width=\"11\" height=\"11\" x=\"11\" y=\"154\" style=\"fill:#000\"/><rect width=\"11\" height=\"11\" x=\"22\" y=\"154\" style=\"fill:#000\"/><rect width=\"11\" height=\"11\" x=\"33\" y=\"154\" style=\"fill:#000\"/><rect width=\"11\" height=\"11\" x=\"44\" y=\"154\" style=\"fill:#000\"/><rect width=\"11\" height=\"11\" x=\"55\" y=\"154\" style=\"fill:#000\"/><rect width=\"11\" height=\"11\" x=\"66\" y=\"154\" style=\"fill:#000\"/><rect width=\"11\" height=\"11\" x=\"88\" y=\"154\" style=\"fill:#000\"/><rect width=\"11\" height=\"11\" x=\"110\" y=\"154\" style=\"fill:#000\"/><rect width=\"11\" height=\"11\" x=\"121\" y=\"154\" style=\"fill:#000\"/><rect width=\"11\" height=\"11\" x=\"143\" y=\"154\" style=\"fill:#000\"/><rect width=\"11\" height=\"11\" x=\"176\" y=\"154\" style=\"fill:#000\"/><rect width=\"11\" height=\"11\" x=\"187\" y=\"154\" style=\"fill:#000\"/><rect width=\"11\" height=\"11\" x=\"198\" y=\"154\" style=\"fill:#000\"/>\n",
       "<rect width=\"11\" height=\"11\" x=\"0\" y=\"165\" style=\"fill:#000\"/><rect width=\"11\" height=\"11\" x=\"66\" y=\"165\" style=\"fill:#000\"/><rect width=\"11\" height=\"11\" x=\"99\" y=\"165\" style=\"fill:#000\"/><rect width=\"11\" height=\"11\" x=\"110\" y=\"165\" style=\"fill:#000\"/><rect width=\"11\" height=\"11\" x=\"121\" y=\"165\" style=\"fill:#000\"/><rect width=\"11\" height=\"11\" x=\"154\" y=\"165\" style=\"fill:#000\"/><rect width=\"11\" height=\"11\" x=\"165\" y=\"165\" style=\"fill:#000\"/><rect width=\"11\" height=\"11\" x=\"176\" y=\"165\" style=\"fill:#000\"/><rect width=\"11\" height=\"11\" x=\"187\" y=\"165\" style=\"fill:#000\"/><rect width=\"11\" height=\"11\" x=\"198\" y=\"165\" style=\"fill:#000\"/><rect width=\"11\" height=\"11\" x=\"209\" y=\"165\" style=\"fill:#000\"/>\n",
       "<rect width=\"11\" height=\"11\" x=\"0\" y=\"176\" style=\"fill:#000\"/><rect width=\"11\" height=\"11\" x=\"22\" y=\"176\" style=\"fill:#000\"/><rect width=\"11\" height=\"11\" x=\"33\" y=\"176\" style=\"fill:#000\"/><rect width=\"11\" height=\"11\" x=\"44\" y=\"176\" style=\"fill:#000\"/><rect width=\"11\" height=\"11\" x=\"66\" y=\"176\" style=\"fill:#000\"/><rect width=\"11\" height=\"11\" x=\"88\" y=\"176\" style=\"fill:#000\"/><rect width=\"11\" height=\"11\" x=\"121\" y=\"176\" style=\"fill:#000\"/><rect width=\"11\" height=\"11\" x=\"132\" y=\"176\" style=\"fill:#000\"/><rect width=\"11\" height=\"11\" x=\"154\" y=\"176\" style=\"fill:#000\"/><rect width=\"11\" height=\"11\" x=\"165\" y=\"176\" style=\"fill:#000\"/><rect width=\"11\" height=\"11\" x=\"209\" y=\"176\" style=\"fill:#000\"/><rect width=\"11\" height=\"11\" x=\"220\" y=\"176\" style=\"fill:#000\"/>\n",
       "<rect width=\"11\" height=\"11\" x=\"0\" y=\"187\" style=\"fill:#000\"/><rect width=\"11\" height=\"11\" x=\"22\" y=\"187\" style=\"fill:#000\"/><rect width=\"11\" height=\"11\" x=\"33\" y=\"187\" style=\"fill:#000\"/><rect width=\"11\" height=\"11\" x=\"44\" y=\"187\" style=\"fill:#000\"/><rect width=\"11\" height=\"11\" x=\"66\" y=\"187\" style=\"fill:#000\"/><rect width=\"11\" height=\"11\" x=\"88\" y=\"187\" style=\"fill:#000\"/><rect width=\"11\" height=\"11\" x=\"121\" y=\"187\" style=\"fill:#000\"/><rect width=\"11\" height=\"11\" x=\"132\" y=\"187\" style=\"fill:#000\"/><rect width=\"11\" height=\"11\" x=\"143\" y=\"187\" style=\"fill:#000\"/><rect width=\"11\" height=\"11\" x=\"187\" y=\"187\" style=\"fill:#000\"/><rect width=\"11\" height=\"11\" x=\"198\" y=\"187\" style=\"fill:#000\"/>\n",
       "<rect width=\"11\" height=\"11\" x=\"0\" y=\"198\" style=\"fill:#000\"/><rect width=\"11\" height=\"11\" x=\"22\" y=\"198\" style=\"fill:#000\"/><rect width=\"11\" height=\"11\" x=\"33\" y=\"198\" style=\"fill:#000\"/><rect width=\"11\" height=\"11\" x=\"44\" y=\"198\" style=\"fill:#000\"/><rect width=\"11\" height=\"11\" x=\"66\" y=\"198\" style=\"fill:#000\"/><rect width=\"11\" height=\"11\" x=\"143\" y=\"198\" style=\"fill:#000\"/><rect width=\"11\" height=\"11\" x=\"154\" y=\"198\" style=\"fill:#000\"/><rect width=\"11\" height=\"11\" x=\"176\" y=\"198\" style=\"fill:#000\"/><rect width=\"11\" height=\"11\" x=\"209\" y=\"198\" style=\"fill:#000\"/><rect width=\"11\" height=\"11\" x=\"220\" y=\"198\" style=\"fill:#000\"/>\n",
       "<rect width=\"11\" height=\"11\" x=\"0\" y=\"209\" style=\"fill:#000\"/><rect width=\"11\" height=\"11\" x=\"66\" y=\"209\" style=\"fill:#000\"/><rect width=\"11\" height=\"11\" x=\"121\" y=\"209\" style=\"fill:#000\"/><rect width=\"11\" height=\"11\" x=\"143\" y=\"209\" style=\"fill:#000\"/><rect width=\"11\" height=\"11\" x=\"187\" y=\"209\" style=\"fill:#000\"/><rect width=\"11\" height=\"11\" x=\"198\" y=\"209\" style=\"fill:#000\"/><rect width=\"11\" height=\"11\" x=\"209\" y=\"209\" style=\"fill:#000\"/><rect width=\"11\" height=\"11\" x=\"220\" y=\"209\" style=\"fill:#000\"/>\n",
       "<rect width=\"11\" height=\"11\" x=\"0\" y=\"220\" style=\"fill:#000\"/><rect width=\"11\" height=\"11\" x=\"11\" y=\"220\" style=\"fill:#000\"/><rect width=\"11\" height=\"11\" x=\"22\" y=\"220\" style=\"fill:#000\"/><rect width=\"11\" height=\"11\" x=\"33\" y=\"220\" style=\"fill:#000\"/><rect width=\"11\" height=\"11\" x=\"44\" y=\"220\" style=\"fill:#000\"/><rect width=\"11\" height=\"11\" x=\"55\" y=\"220\" style=\"fill:#000\"/><rect width=\"11\" height=\"11\" x=\"66\" y=\"220\" style=\"fill:#000\"/><rect width=\"11\" height=\"11\" x=\"99\" y=\"220\" style=\"fill:#000\"/><rect width=\"11\" height=\"11\" x=\"121\" y=\"220\" style=\"fill:#000\"/><rect width=\"11\" height=\"11\" x=\"132\" y=\"220\" style=\"fill:#000\"/><rect width=\"11\" height=\"11\" x=\"143\" y=\"220\" style=\"fill:#000\"/><rect width=\"11\" height=\"11\" x=\"176\" y=\"220\" style=\"fill:#000\"/><rect width=\"11\" height=\"11\" x=\"187\" y=\"220\" style=\"fill:#000\"/>\n",
       "</svg>"
      ]
     },
     "execution_count": 10,
     "metadata": {},
     "output_type": "execute_result"
    }
   ],
   "source": [
    "ICrystal.svg qr.as_svg"
   ]
  },
  {
   "cell_type": "code",
   "execution_count": 11,
   "id": "bd6fc2dc",
   "metadata": {
    "vscode": {
     "languageId": "crystal"
    }
   },
   "outputs": [
    {
     "data": {
      "text/html": [
       "<img style=\"width: 128px;\" src=\"data:image/png;base64,iVBORw0KGgoAAAANSUhEUgAAAEAAAABAEAYAAAD6+a2dAAAB2UlEQVR4nO2W\n",
       "SW7EMAwE/f9PJ0DgywAJZIrdImNWXXyQp7mo4OT6gtFc1Q1ALQgwHAQYDgIM\n",
       "BwGGgwDDQYDhIMBwEGA4CDAcmwDXD+ee6n7+23y7IMChPPd8uxwToFv+6vfZ\n",
       "8ywIYM5HgLuOLTi4wOgnUJ1fXT+arwIBmtSP5qsYI0C0XwTIBiMAAnRekPv3\n",
       "1fM9nsMW3HxBCHDXsQWbB1BfYDSv+3yP69iCmy8IAe46tuDgJzD7XNV3n5+e\n",
       "TwUCiM5Pz6fCGN0LtUBv4cWjfYIAv9NmtOwFRS/stABVn/hlX3WlP0GAGtr8\n",
       "ExjNU78f7T9bv4sQCLDZf7b+OAFW592FyPbfVQgE2AQBVsHmha/Oo89sPXe/\n",
       "LhAAAUzByYV3f1bvS1bXFowA1n3J6vqia8kK6M7L5qtAgD/ed+dl81WU/QlQ\n",
       "P1f1o/1F87LzV4EACGAKNg9YfSFZYbsIgQAIYApeDJRdSPY82k/2fXV9FQjw\n",
       "sJ/s++r6KhBA1E82vwoEEPWTza/itQK45zktoAsE2JwHAVbB5gHU+W7hosIj\n",
       "wOF8BFAHJwdWLyh6wep6py40CgJs9pudvwuNWoEKEGA4CDAcBBgOAgwHAYaD\n",
       "AMNBgOEgwHAQYDgIMJxvhOcLx4nTfuYAAAAASUVORK5CYII=\n",
       "\"/>"
      ]
     },
     "execution_count": 11,
     "metadata": {},
     "output_type": "execute_result"
    }
   ],
   "source": [
    "ICrystal.html %(<img style=\"width: 128px;\" src=\"data:image/png;base64,#{Base64.encode(qr.as_png(size: 64))}\"/>) "
   ]
  }
 ],
 "metadata": {
  "kernelspec": {
   "display_name": "Crystal 1.9.2",
   "language": "crystal",
   "name": "crystal"
  },
  "language_info": {
   "file_extension": ".cr",
   "mimetype": "text/x-crystal",
   "name": "Crystal",
   "version": "1.9.2"
  }
 },
 "nbformat": 4,
 "nbformat_minor": 5
}
