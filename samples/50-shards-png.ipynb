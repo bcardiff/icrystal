{
 "cells": [
  {
   "cell_type": "code",
   "execution_count": 1,
   "id": "f4f9183f-d1e4-4e36-86bd-f1201f2f4781",
   "metadata": {
    "vscode": {
     "languageId": "crystal"
    }
   },
   "outputs": [
    {
     "data": {
      "text/plain": [
       "I: Resolving dependencies\n",
       "I: Fetching https://github.com/stumpycr/stumpy_png.git\n",
       "I: Fetching https://github.com/spider-gazelle/qr-code.git\n",
       "I: Fetching https://github.com/stumpycr/stumpy_core.git\n",
       "I: Installing stumpy_core (1.9.1)\n",
       "I: Installing stumpy_png (5.0.1)\n",
       "I: Installing qr-code (1.0.2)\n",
       "I: Writing shard.lock\n",
       "\n",
       "\n",
       "0"
      ]
     },
     "execution_count": 1,
     "metadata": {},
     "output_type": "execute_result"
    }
   ],
   "source": [
    "ICrystal.shards do\n",
    "    dep \"stumpy_png\", github: \"stumpycr/stumpy_png\"\n",
    "    dep \"qr-code\", github: \"spider-gazelle/qr-code\"\n",
    "end"
   ]
  },
  {
   "cell_type": "code",
   "execution_count": 2,
   "id": "de8a8601",
   "metadata": {
    "vscode": {
     "languageId": "crystal"
    }
   },
   "outputs": [],
   "source": [
    "require \"patch-issue-13873\"\n",
    "require \"base64\"\n",
    "require \"stumpy_png\""
   ]
  },
  {
   "cell_type": "code",
   "execution_count": 3,
   "id": "4442458c-23f7-43c3-a44a-5b59f4044873",
   "metadata": {
    "vscode": {
     "languageId": "crystal"
    }
   },
   "outputs": [],
   "source": [
    "canvas = StumpyPNG::Canvas.new(64, 64)\n",
    "ICrystal.none"
   ]
  },
  {
   "cell_type": "code",
   "execution_count": 4,
   "id": "d06ccde0-b82d-4ca0-b443-34cda604a3e1",
   "metadata": {
    "vscode": {
     "languageId": "crystal"
    }
   },
   "outputs": [],
   "source": [
    "(0...64).each do |x|\n",
    "  (0...64).each do |y|\n",
    "    color = StumpyPNG::RGBA.from_rgb_n(x*2, y*2, 255, 8)\n",
    "    canvas[x, y] = color\n",
    "  end\n",
    "end"
   ]
  },
  {
   "cell_type": "code",
   "execution_count": 5,
   "id": "204e5a90-772f-4099-967f-66a9774241b3",
   "metadata": {
    "vscode": {
     "languageId": "crystal"
    }
   },
   "outputs": [],
   "source": [
    "io = IO::Memory.new\n",
    "StumpyPNG.write(canvas, io)"
   ]
  },
  {
   "cell_type": "code",
   "execution_count": 6,
   "id": "e97c85fc",
   "metadata": {
    "vscode": {
     "languageId": "crystal"
    }
   },
   "outputs": [
    {
     "data": {
      "text/plain": [
       "\"iVBORw0KGgoAAAANSUhEUgAAAEAAAABAEAYAAAD6+a2dAAAihElEQVR4nCXS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\\n73EY8PfD/wNEP4Si5DiuWQAAAABJRU5ErkJggg==\\n\""
      ]
     },
     "execution_count": 6,
     "metadata": {},
     "output_type": "execute_result"
    }
   ],
   "source": [
    "b64 = Base64.encode(io)"
   ]
  },
  {
   "cell_type": "code",
   "execution_count": 7,
   "id": "802ae4c8",
   "metadata": {
    "vscode": {
     "languageId": "crystal"
    }
   },
   "outputs": [
    {
     "data": {
      "text/html": [
       "<img src=\"data:image/png;base64,iVBORw0KGgoAAAANSUhEUgAAAEAAAABAEAYAAAD6+a2dAAAihElEQVR4nCXS\n",
       "ccezDgOG4Z/HTGYyk5nJzEwmMzNJkmRmJkmSJJNJkslMMkn21d/35rz+OT7A\n",
       "df7339/+97d//3A0wvEYBQEnE5xOURRxNsP5HCUJFwtcLnG1QlnG9Ro3G9xu\n",
       "cbdDRcH9HlUVDwc8HvF0wvMZNQ11HQ0DTRMtC20bHQcvF7xe8XbD+x1dFz0P\n",
       "fR+DAMMQowjjGJME0xQfD8wyfD4xz7EosCyxqvD1wrrG9xs/H2wabFv8frHr\n",
       "sO9xGPD3w7/7//0jAByNcDxGQcDJBKdTFEWczXA+R0nCxQKXS1ytUJZxvcbN\n",
       "Brdb3O1QUXC/R1XFwwGPRzyd8HxGTUNdR8NA00TLQttGx8HLBa9XvN3wfkfX\n",
       "Rc9D38cgwDDEKMI4xiTBNMXHA7MMn0/McywKLEusKny9sK7x/cbPB5sG2xa/\n",
       "X+w67HscBvz98C+A0YgAcDTC8RgFAScTnE5RFHE2w/kcJQkXC1wucbVCWcb1\n",
       "Gjcb3G5xt0NFwf0eVRUPBzwe8XTC8xk1DXUdDQNNEy0LbRsdBy8XvF7xdsP7\n",
       "HV0XPQ99H4MAwxCjCOMYkwTTFB8PzDJ8PjHPsSiwLLGq8PXCusb3Gz8fbBps\n",
       "W/x+seuw73EY8PfDvwDGYwLA0QjHYxQEnExwOkVRxNkM53OUJFwscLnE1Qpl\n",
       "Gddr3Gxwu8XdDhUF93tUVTwc8HjE0wnPZ9Q01HU0DDRNtCy0bXQcvFzwesXb\n",
       "De93dF30PPR9DAIMQ4wijGNMEkxTfDwwy/D5xDzHosCyxKrC1wvrGt9v/Hyw\n",
       "abBt8fvFrsO+x2HA3w//AhAEAsDRCMdjFAScTHA6RVHE2Qznc5QkXCxwucTV\n",
       "CmUZ12vcbHC7xd0OFQX3e1RVPBzweMTTCc9n1DTUdTQMNE20LLRtdBy8XPB6\n",
       "xdsN73d0XfQ89H0MAgxDjCKMY0wSTFN8PDDL8PnEPMeiwLLEqsLXC+sa32/8\n",
       "fLBpsG3x+8Wuw77HYcDfD/8CmEwIAEcjHI9REHAywekURRFnM5zPUZJwscDl\n",
       "ElcrlGVcr3Gzwe0WdztUFNzvUVXxcMDjEU8nPJ9R01DX0TDQNNGy0LbRcfBy\n",
       "wesVbze839F10fPQ9zEIMAwxijCOMUkwTfHxwCzD5xPzHIsCyxKrCl8vrGt8\n",
       "v/HzwabBtsXvF7sO+x6HAX8//AtgOiUAHI1wPEZBwMkEp1MURZzNcD5HScLF\n",
       "ApdLXK1QlnG9xs0Gt1vc7VBRcL9HVcXDAY9HPJ3wfEZNQ11Hw0DTRMtC20bH\n",
       "wcsFr1e83fB+R9dFz0PfxyDAMMQowjjGJME0xccDswyfT8xzLAosS6wqfL2w\n",
       "rvH9xs8HmwbbFr9f7DrsexwG/P3wLwBRJAAcjXA8RkHAyQSnUxRFnM1wPkdJ\n",
       "wsUCl0tcrVCWcb3GzQa3W9ztUFFwv0dVxcMBj0c8nfB8Rk1DXUfDQNNEy0Lb\n",
       "RsfBywWvV7zd8H5H10XPQ9/HIMAwxCjCOMYkwTTFxwOzDJ9PzHMsCixLrCp8\n",
       "vbCu8f3GzwebBtsWv1/sOux7HAb8/fAvgNmMAHA0wvEYBQEnE5xOURRxNsP5\n",
       "HCUJFwtcLnG1QlnG9Ro3G9xucbdDRcH9HlUVDwc8HvF0wvMZNQ11HQ0DTRMt\n",
       "C20bHQcvF7xe8XbD+x1dFz0PfR+DAMMQowjjGJME0xQfD8wyfD4xz7EosCyx\n",
       "qvD1wrrG9xs/H2wabFv8frHrsO9xGPD3w78A5nMCwNEIx2MUBJxMcDpFUcTZ\n",
       "DOdzlCRcLHC5xNUKZRnXa9xscLvF3Q4VBfd7VFU8HPB4xNMJz2fUNNR1NAw0\n",
       "TbQstG10HLxc8HrF2w3vd3Rd9Dz0fQwCDEOMIoxjTBJMU3w8MMvw+cQ8x6LA\n",
       "ssSqwtcL6xrfb/x8sGmwbfH7xa7DvsdhwN8P/wKQJALA0QjHYxQEnExwOkVR\n",
       "xNkM53OUJFwscLnE1QplGddr3Gxwu8XdDhUF93tUVTwc8HjE0wnPZ9Q01HU0\n",
       "DDRNtCy0bXQcvFzwesXbDe93dF30PPR9DAIMQ4wijGNMEkxTfDwwy/D5xDzH\n",
       "osCyxKrC1wvrGt9v/HywabBt8fvFrsO+x2HA3w//AlgsCABHIxyPURBwMsHp\n",
       "FEURZzOcz1GScLHA5RJXK5RlXK9xs8HtFnc7VBTc71FV8XDA4xFPJzyfUdNQ\n",
       "19Ew0DTRstC20XHwcsHrFW83vN/RddHz0PcxCDAMMYowjjFJME3x8cAsw+cT\n",
       "8xyLAssSqwpfL6xrfL/x88GmwbbF7xe7DvsehwF/P/wLYLkkAByNcDxGQcDJ\n",
       "BKdTFEWczXA+R0nCxQKXS1ytUJZxvcbNBrdb3O1QUXC/R1XFwwGPRzyd8HxG\n",
       "TUNdR8NA00TLQttGx8HLBa9XvN3wfkfXRc9D38cgwDDEKMI4xiTBNMXHA7MM\n",
       "n0/McywKLEusKny9sK7x/cbPB5sG2xa/X+w67HscBvz98C+A1YoAcDTC8RgF\n",
       "AScTnE5RFHE2w/kcJQkXC1wucbVCWcb1Gjcb3G5xt0NFwf0eVRUPBzwe8XTC\n",
       "8xk1DXUdDQNNEy0LbRsdBy8XvF7xdsP7HV0XPQ99H4MAwxCjCOMYkwTTFB8P\n",
       "zDJ8PjHPsSiwLLGq8PXCusb3Gz8fbBpsW/x+seuw73EY8PfDvwBkmQBwNMLx\n",
       "GAUBJxOcTlEUcTbD+RwlCRcLXC5xtUJZxvUaNxvcbnG3Q0XB/R5VFQ8HPB7x\n",
       "dMLzGTUNdR0NA00TLQttGx0HLxe8XvF2w/sdXRc9D30fgwDDEKMI4xiTBNMU\n",
       "Hw/MMnw+Mc+xKLAssarw9cK6xvcbPx9sGmxb/H6x67DvcRjw98O/ANZrAsDR\n",
       "CMdjFAScTHA6RVHE2Qznc5QkXCxwucTVCmUZ12vcbHC7xd0OFQX3e1RVPBzw\n",
       "eMTTCc9n1DTUdTQMNE20LLRtdBy8XPB6xdsN73d0XfQ89H0MAgxDjCKMY0wS\n",
       "TFN8PDDL8PnEPMeiwLLEqsLXC+sa32/8fLBpsG3x+8Wuw77HYcDfD/8C2GwI\n",
       "AEcjHI9REHAywekURRFnM5zPUZJwscDlElcrlGVcr3Gzwe0WdztUFNzvUVXx\n",
       "cMDjEU8nPJ9R01DX0TDQNNGy0LbRcfBywesVbze839F10fPQ9zEIMAwxijCO\n",
       "MUkwTfHxwCzD5xPzHIsCyxKrCl8vrGt8v/HzwabBtsXvF7sO+x6HAX8//Atg\n",
       "uyUAHI1wPEZBwMkEp1MURZzNcD5HScLFApdLXK1QlnG9xs0Gt1vc7VBRcL9H\n",
       "VcXDAY9HPJ3wfEZNQ11Hw0DTRMtC20bHwcsFr1e83fB+R9dFz0PfxyDAMMQo\n",
       "wjjGJME0xccDswyfT8xzLAosS6wqfL2wrvH9xs8HmwbbFr9f7DrsexwG/P3w\n",
       "L4DdjgBwNMLxGAUBJxOcTlEUcTbD+RwlCRcLXC5xtUJZxvUaNxvcbnG3Q0XB\n",
       "/R5VFQ8HPB7xdMLzGTUNdR0NA00TLQttGx0HLxe8XvF2w/sdXRc9D30fgwDD\n",
       "EKMI4xiTBNMUHw/MMnw+Mc+xKLAssarw9cK6xvcbPx9sGmxb/H6x67DvcRjw\n",
       "98O/ABSFAHA0wvEYBQEnE5xOURRxNsP5HCUJFwtcLnG1QlnG9Ro3G9xucbdD\n",
       "RcH9HlUVDwc8HvF0wvMZNQ11HQ0DTRMtC20bHQcvF7xe8XbD+x1dFz0PfR+D\n",
       "AMMQowjjGJME0xQfD8wyfD4xz7EosCyxqvD1wrrG9xs/H2wabFv8frHrsO9x\n",
       "GPD3w78A9nsCwNEIx2MUBJxMcDpFUcTZDOdzlCRcLHC5xNUKZRnXa9xscLvF\n",
       "3Q4VBfd7VFU8HPB4xNMJz2fUNNR1NAw0TbQstG10HLxc8HrF2w3vd3Rd9Dz0\n",
       "fQwCDEOMIoxjTBJMU3w8MMvw+cQ8x6LAssSqwtcL6xrfb/x8sGmwbfH7xa7D\n",
       "vsdhwN8P/wJQVQLA0QjHYxQEnExwOkVRxNkM53OUJFwscLnE1QplGddr3Gxw\n",
       "u8XdDhUF93tUVTwc8HjE0wnPZ9Q01HU0DDRNtCy0bXQcvFzwesXbDe93dF30\n",
       "PPR9DAIMQ4wijGNMEkxTfDwwy/D5xDzHosCyxKrC1wvrGt9v/HywabBt8fvF\n",
       "rsO+x2HA3w//AjgcCABHIxyPURBwMsHpFEURZzOcz1GScLHA5RJXK5RlXK9x\n",
       "s8HtFnc7VBTc71FV8XDA4xFPJzyfUdNQ19Ew0DTRstC20XHwcsHrFW83vN/R\n",
       "ddHz0PcxCDAMMYowjjFJME3x8cAsw+cT8xyLAssSqwpfL6xrfL/x88GmwbbF\n",
       "7xe7DvsehwF/P/wL4HgkAByNcDxGQcDJBKdTFEWczXA+R0nCxQKXS1ytUJZx\n",
       "vcbNBrdb3O1QUXC/R1XFwwGPRzyd8HxGTUNdR8NA00TLQttGx8HLBa9XvN3w\n",
       "fkfXRc9D38cgwDDEKMI4xiTBNMXHA7MMn0/McywKLEusKny9sK7x/cbPB5sG\n",
       "2xa/X+w67HscBvz98C+A04kAcDTC8RgFAScTnE5RFHE2w/kcJQkXC1wucbVC\n",
       "Wcb1Gjcb3G5xt0NFwf0eVRUPBzwe8XTC8xk1DXUdDQNNEy0LbRsdBy8XvF7x\n",
       "dsP7HV0XPQ99H4MAwxCjCOMYkwTTFB8PzDJ8PjHPsSiwLLGq8PXCusb3Gz8f\n",
       "bBpsW/x+seuw73EY8PfDvwDOZwLA0QjHYxQEnExwOkVRxNkM53OUJFwscLnE\n",
       "1QplGddr3Gxwu8XdDhUF93tUVTwc8HjE0wnPZ9Q01HU0DDRNtCy0bXQcvFzw\n",
       "esXbDe93dF30PPR9DAIMQ4wijGNMEkxTfDwwy/D5xDzHosCyxKrC1wvrGt9v\n",
       "/HywabBt8fvFrsO+x2HA3w//AtA0AsDRCMdjFAScTHA6RVHE2Qznc5QkXCxw\n",
       "ucTVCmUZ12vcbHC7xd0OFQX3e1RVPBzweMTTCc9n1DTUdTQMNE20LLRtdBy8\n",
       "XPB6xdsN73d0XfQ89H0MAgxDjCKMY0wSTFN8PDDL8PnEPMeiwLLEqsLXC+sa\n",
       "32/8fLBpsG3x+8Wuw77HYcDfD/8C0HUCwNEIx2MUBJxMcDpFUcTZDOdzlCRc\n",
       "LHC5xNUKZRnXa9xscLvF3Q4VBfd7VFU8HPB4xNMJz2fUNNR1NAw0TbQstG10\n",
       "HLxc8HrF2w3vd3Rd9Dz0fQwCDEOMIoxjTBJMU3w8MMvw+cQ8x6LAssSqwtcL\n",
       "6xrfb/x8sGmwbfH7xa7DvsdhwN8P/wIwDALA0QjHYxQEnExwOkVRxNkM53OU\n",
       "JFwscLnE1QplGddr3Gxwu8XdDhUF93tUVTwc8HjE0wnPZ9Q01HU0DDRNtCy0\n",
       "bXQcvFzwesXbDe93dF30PPR9DAIMQ4wijGNMEkxTfDwwy/D5xDzHosCyxKrC\n",
       "1wvrGt9v/HywabBt8fvFrsO+x2HA3w//AjBNAsDRCMdjFAScTHA6RVHE2Qzn\n",
       "c5QkXCxwucTVCmUZ12vcbHC7xd0OFQX3e1RVPBzweMTTCc9n1DTUdTQMNE20\n",
       "LLRtdBy8XPB6xdsN73d0XfQ89H0MAgxDjCKMY0wSTFN8PDDL8PnEPMeiwLLE\n",
       "qsLXC+sa32/8fLBpsG3x+8Wuw77HYcDfD/8CsCwCwNEIx2MUBJxMcDpFUcTZ\n",
       "DOdzlCRcLHC5xNUKZRnXa9xscLvF3Q4VBfd7VFU8HPB4xNMJz2fUNNR1NAw0\n",
       "TbQstG10HLxc8HrF2w3vd3Rd9Dz0fQwCDEOMIoxjTBJMU3w8MMvw+cQ8x6LA\n",
       "ssSqwtcL6xrfb/x8sGmwbfH7xa7DvsdhwN8P/wKwbQLA0QjHYxQEnExwOkVR\n",
       "xNkM53OUJFwscLnE1QplGddr3Gxwu8XdDhUF93tUVTwc8HjE0wnPZ9Q01HU0\n",
       "DDRNtCy0bXQcvFzwesXbDe93dF30PPR9DAIMQ4wijGNMEkxTfDwwy/D5xDzH\n",
       "osCyxKrC1wvrGt9v/HywabBt8fvFrsO+x2HA3w//AnAcAsDRCMdjFAScTHA6\n",
       "RVHE2Qznc5QkXCxwucTVCmUZ12vcbHC7xd0OFQX3e1RVPBzweMTTCc9n1DTU\n",
       "dTQMNE20LLRtdBy8XPB6xdsN73d0XfQ89H0MAgxDjCKMY0wSTFN8PDDL8PnE\n",
       "PMeiwLLEqsLXC+sa32/8fLBpsG3x+8Wuw77HYcDfD/8CuFwIAEcjHI9REHAy\n",
       "wekURRFnM5zPUZJwscDlElcrlGVcr3Gzwe0WdztUFNzvUVXxcMDjEU8nPJ9R\n",
       "01DX0TDQNNGy0LbRcfBywesVbze839F10fPQ9zEIMAwxijCOMUkwTfHxwCzD\n",
       "5xPzHIsCyxKrCl8vrGt8v/HzwabBtsXvF7sO+x6HAX8//AvgeiUAHI1wPEZB\n",
       "wMkEp1MURZzNcD5HScLFApdLXK1QlnG9xs0Gt1vc7VBRcL9HVcXDAY9HPJ3w\n",
       "fEZNQ11Hw0DTRMtC20bHwcsFr1e83fB+R9dFz0PfxyDAMMQowjjGJME0xccD\n",
       "swyfT8xzLAosS6wqfL2wrvH9xs8HmwbbFr9f7DrsexwG/P3wL4DbjQBwNMLx\n",
       "GAUBJxOcTlEUcTbD+RwlCRcLXC5xtUJZxvUaNxvcbnG3Q0XB/R5VFQ8HPB7x\n",
       "dMLzGTUNdR0NA00TLQttGx0HLxe8XvF2w/sdXRc9D30fgwDDEKMI4xiTBNMU\n",
       "Hw/MMnw+Mc+xKLAssarw9cK6xvcbPx9sGmxb/H6x67DvcRjw98O/AO53AsDR\n",
       "CMdjFAScTHA6RVHE2Qznc5QkXCxwucTVCmUZ12vcbHC7xd0OFQX3e1RVPBzw\n",
       "eMTTCc9n1DTUdTQMNE20LLRtdBy8XPB6xdsN73d0XfQ89H0MAgxDjCKMY0wS\n",
       "TFN8PDDL8PnEPMeiwLLEqsLXC+sa32/8fLBpsG3x+8Wuw77HYcDfD/8CcF0C\n",
       "wNEIx2MUBJxMcDpFUcTZDOdzlCRcLHC5xNUKZRnXa9xscLvF3Q4VBfd7VFU8\n",
       "HPB4xNMJz2fUNNR1NAw0TbQstG10HLxc8HrF2w3vd3Rd9Dz0fQwCDEOMIoxj\n",
       "TBJMU3w8MMvw+cQ8x6LAssSqwtcL6xrfb/x8sGmwbfH7xa7DvsdhwN8P/wLw\n",
       "PALA0QjHYxQEnExwOkVRxNkM53OUJFwscLnE1QplGddr3Gxwu8XdDhUF93tU\n",
       "VTwc8HjE0wnPZ9Q01HU0DDRNtCy0bXQcvFzwesXbDe93dF30PPR9DAIMQ4wi\n",
       "jGNMEkxTfDwwy/D5xDzHosCyxKrC1wvrGt9v/HywabBt8fvFrsO+x2HA3w//\n",
       "AvB9AsDRCMdjFAScTHA6RVHE2Qznc5QkXCxwucTVCmUZ12vcbHC7xd0OFQX3\n",
       "e1RVPBzweMTTCc9n1DTUdTQMNE20LLRtdBy8XPB6xdsN73d0XfQ89H0MAgxD\n",
       "jCKMY0wSTFN8PDDL8PnEPMeiwLLEqsLXC+sa32/8fLBpsG3x+8Wuw77HYcDf\n",
       "D/8CCAICwNEIx2MUBJxMcDpFUcTZDOdzlCRcLHC5xNUKZRnXa9xscLvF3Q4V\n",
       "Bfd7VFU8HPB4xNMJz2fUNNR1NAw0TbQstG10HLxc8HrF2w3vd3Rd9Dz0fQwC\n",
       "DEOMIoxjTBJMU3w8MMvw+cQ8x6LAssSqwtcL6xrfb/x8sGmwbfH7xa7Dvsdh\n",
       "wN8P/wIIQwLA0QjHYxQEnExwOkVRxNkM53OUJFwscLnE1QplGddr3Gxwu8Xd\n",
       "DhUF93tUVTwc8HjE0wnPZ9Q01HU0DDRNtCy0bXQcvFzwesXbDe93dF30PPR9\n",
       "DAIMQ4wijGNMEkxTfDwwy/D5xDzHosCyxKrC1wvrGt9v/HywabBt8fvFrsO+\n",
       "x2HA3w//AogiAsDRCMdjFAScTHA6RVHE2Qznc5QkXCxwucTVCmUZ12vcbHC7\n",
       "xd0OFQX3e1RVPBzweMTTCc9n1DTUdTQMNE20LLRtdBy8XPB6xdsN73d0XfQ8\n",
       "9H0MAgxDjCKMY0wSTFN8PDDL8PnEPMeiwLLEqsLXC+sa32/8fLBpsG3x+8Wu\n",
       "w77HYcDfD/8CiGMCwNEIx2MUBJxMcDpFUcTZDOdzlCRcLHC5xNUKZRnXa9xs\n",
       "cLvF3Q4VBfd7VFU8HPB4xNMJz2fUNNR1NAw0TbQstG10HLxc8HrF2w3vd3Rd\n",
       "9Dz0fQwCDEOMIoxjTBJMU3w8MMvw+cQ8x6LAssSqwtcL6xrfb/x8sGmwbfH7\n",
       "xa7DvsdhwN8P/wJIEgLA0QjHYxQEnExwOkVRxNkM53OUJFwscLnE1QplGddr\n",
       "3Gxwu8XdDhUF93tUVTwc8HjE0wnPZ9Q01HU0DDRNtCy0bXQcvFzwesXbDe93\n",
       "dF30PPR9DAIMQ4wijGNMEkxTfDwwy/D5xDzHosCyxKrC1wvrGt9v/HywabBt\n",
       "8fvFrsO+x2HA3w//AkhTAsDRCMdjFAScTHA6RVHE2Qznc5QkXCxwucTVCmUZ\n",
       "12vcbHC7xd0OFQX3e1RVPBzweMTTCc9n1DTUdTQMNE20LLRtdBy8XPB6xdsN\n",
       "73d0XfQ89H0MAgxDjCKMY0wSTFN8PDDL8PnEPMeiwLLEqsLXC+sa32/8fLBp\n",
       "sG3x+8Wuw77HYcDfD/8CeDwIAEcjHI9REHAywekURRFnM5zPUZJwscDlElcr\n",
       "lGVcr3Gzwe0WdztUFNzvUVXxcMDjEU8nPJ9R01DX0TDQNNGy0LbRcfBywesV\n",
       "bze839F10fPQ9zEIMAwxijCOMUkwTfHxwCzD5xPzHIsCyxKrCl8vrGt8v/Hz\n",
       "wabBtsXvF7sO+x6HAX8//AsgywgARyMcj1EQcDLB6RRFEWcznM9RknCxwOUS\n",
       "VyuUZVyvcbPB7RZ3O1QU3O9RVfFwwOMRTyc8n1HTUNfRMNA00bLQttFx8HLB\n",
       "6xVvN7zf0XXR89D3MQgwDDGKMI4xSTBN8fHALMPnE/MciwLLEqsKXy+sa3y/\n",
       "8fPBpsG2xe8Xuw77HocBfz/8C+D5JAAcjXA8RkHAyQSnUxRFnM1wPkdJwsUC\n",
       "l0tcrVCWcb3GzQa3W9ztUFFwv0dVxcMBj0c8nfB8Rk1DXUfDQNNEy0LbRsfB\n",
       "ywWvV7zd8H5H10XPQ9/HIMAwxCjCOMYkwTTFxwOzDJ9PzHMsCixLrCp8vbCu\n",
       "8f3GzwebBtsWv1/sOux7HAb8/fAvgDwnAByNcDxGQcDJBKdTFEWczXA+R0nC\n",
       "xQKXS1ytUJZxvcbNBrdb3O1QUXC/R1XFwwGPRzyd8HxGTUNdR8NA00TLQttG\n",
       "x8HLBa9XvN3wfkfXRc9D38cgwDDEKMI4xiTBNMXHA7MMn0/McywKLEusKny9\n",
       "sK7x/cbPB5sG2xa/X+w67HscBvz98C+AoiAAHI1wPEZBwMkEp1MURZzNcD5H\n",
       "ScLFApdLXK1QlnG9xs0Gt1vc7VBRcL9HVcXDAY9HPJ3wfEZNQ11Hw0DTRMtC\n",
       "20bHwcsFr1e83fB+R9dFz0PfxyDAMMQowjjGJME0xccDswyfT8xzLAosS6wq\n",
       "fL2wrvH9xs8HmwbbFr9f7DrsexwG/P3wL4CyJAAcjXA8RkHAyQSnUxRFnM1w\n",
       "PkdJwsUCl0tcrVCWcb3GzQa3W9ztUFFwv0dVxcMBj0c8nfB8Rk1DXUfDQNNE\n",
       "y0LbRsfBywWvV7zd8H5H10XPQ9/HIMAwxCjCOMYkwTTFxwOzDJ9PzHMsCixL\n",
       "rCp8vbCu8f3GzwebBtsWv1/sOux7HAb8/fAvgKoiAByNcDxGQcDJBKdTFEWc\n",
       "zXA+R0nCxQKXS1ytUJZxvcbNBrdb3O1QUXC/R1XFwwGPRzyd8HxGTUNdR8NA\n",
       "00TLQttGx8HLBa9XvN3wfkfXRc9D38cgwDDEKMI4xiTBNMXHA7MMn0/McywK\n",
       "LEusKny9sK7x/cbPB5sG2xa/X+w67HscBvz98C+A14sAcDTC8RgFAScTnE5R\n",
       "FHE2w/kcJQkXC1wucbVCWcb1Gjcb3G5xt0NFwf0eVRUPBzwe8XTC8xk1DXUd\n",
       "DQNNEy0LbRsdBy8XvF7xdsP7HV0XPQ99H4MAwxCjCOMYkwTTFB8PzDJ8PjHP\n",
       "sSiwLLGq8PXCusb3Gz8fbBpsW/x+seuw73EY8PfDvwDqmgBwNMLxGAUBJxOc\n",
       "TlEUcTbD+RwlCRcLXC5xtUJZxvUaNxvcbnG3Q0XB/R5VFQ8HPB7xdMLzGTUN\n",
       "dR0NA00TLQttGx0HLxe8XvF2w/sdXRc9D30fgwDDEKMI4xiTBNMUHw/MMnw+\n",
       "Mc+xKLAssarw9cK6xvcbPx9sGmxb/H6x67DvcRjw98O/AN5vAsDRCMdjFASc\n",
       "THA6RVHE2Qznc5QkXCxwucTVCmUZ12vcbHC7xd0OFQX3e1RVPBzweMTTCc9n\n",
       "1DTUdTQMNE20LLRtdBy8XPB6xdsN73d0XfQ89H0MAgxDjCKMY0wSTFN8PDDL\n",
       "8PnEPMeiwLLEqsLXC+sa32/8fLBpsG3x+8Wuw77HYcDfD/8C+HwIAEcjHI9R\n",
       "EHAywekURRFnM5zPUZJwscDlElcrlGVcr3Gzwe0WdztUFNzvUVXxcMDjEU8n\n",
       "PJ9R01DX0TDQNNGy0LbRcfBywesVbze839F10fPQ9zEIMAwxijCOMUkwTfHx\n",
       "wCzD5xPzHIsCyxKrCl8vrGt8v/HzwabBtsXvF7sO+x6HAX8//AugaQgARyMc\n",
       "j1EQcDLB6RRFEWcznM9RknCxwOUSVyuUZVyvcbPB7RZ3O1QU3O9RVfFwwOMR\n",
       "Tyc8n1HTUNfRMNA00bLQttFx8HLB6xVvN7zf0XXR89D3MQgwDDGKMI4xSTBN\n",
       "8fHALMPnE/MciwLLEqsKXy+sa3y/8fPBpsG2xe8Xuw77HocBfz/8C6BtCQBH\n",
       "IxyPURBwMsHpFEURZzOcz1GScLHA5RJXK5RlXK9xs8HtFnc7VBTc71FV8XDA\n",
       "4xFPJzyfUdNQ19Ew0DTRstC20XHwcsHrFW83vN/RddHz0PcxCDAMMYowjjFJ\n",
       "ME3x8cAsw+cT8xyLAssSqwpfL6xrfL/x88GmwbbF7xe7DvsehwF/P/wL4Psl\n",
       "AByNcDxGQcDJBKdTFEWczXA+R0nCxQKXS1ytUJZxvcbNBrdb3O1QUXC/R1XF\n",
       "wwGPRzyd8HxGTUNdR8NA00TLQttGx8HLBa9XvN3wfkfXRc9D38cgwDDEKMI4\n",
       "xiTBNMXHA7MMn0/McywKLEusKny9sK7x/cbPB5sG2xa/X+w67HscBvz98C+A\n",
       "riMAHI1wPEZBwMkEp1MURZzNcD5HScLFApdLXK1QlnG9xs0Gt1vc7VBRcL9H\n",
       "VcXDAY9HPJ3wfEZNQ11Hw0DTRMtC20bHwcsFr1e83fB+R9dFz0PfxyDAMMQo\n",
       "wjjGJME0xccDswyfT8xzLAosS6wqfL2wrvH9xs8HmwbbFr9f7DrsexwG/P3w\n",
       "L4C+JwAcjXA8RkHAyQSnUxRFnM1wPkdJwsUCl0tcrVCWcb3GzQa3W9ztUFFw\n",
       "v0dVxcMBj0c8nfB8Rk1DXUfDQNNEy0LbRsfBywWvV7zd8H5H10XPQ9/HIMAw\n",
       "xCjCOMYkwTTFxwOzDJ9PzHMsCixLrCp8vbCu8f3GzwebBtsWv1/sOux7HAb8\n",
       "/fAvgGEgAByNcDxGQcDJBKdTFEWczXA+R0nCxQKXS1ytUJZxvcbNBrdb3O1Q\n",
       "UXC/R1XFwwGPRzyd8HxGTUNdR8NA00TLQttGx8HLBa9XvN3wfkfXRc9D38cg\n",
       "wDDEKMI4xiTBNMXHA7MMn0/McywKLEusKny9sK7x/cbPB5sG2xa/X+w67Hsc\n",
       "Bvz98C+A348AcDTC8RgFAScTnE5RFHE2w/kcJQkXC1wucbVCWcb1Gjcb3G5x\n",
       "t0NFwf0eVRUPBzwe8XTC8xk1DXUdDQNNEy0LbRsdBy8XvF7xdsP7HV0XPQ99\n",
       "H4MAwxCjCOMYkwTTFB8PzDJ8PjHPsSiwLLGq8PXCusb3Gz8fbBpsW/x+seuw\n",
       "73EY8PfD/wNEP4Si5DiuWQAAAABJRU5ErkJggg==\n",
       "\"/>"
      ]
     },
     "execution_count": 7,
     "metadata": {},
     "output_type": "execute_result"
    }
   ],
   "source": [
    "ICrystal.html %(<img src=\"data:image/png;base64,#{b64}\"/>)"
   ]
  },
  {
   "cell_type": "code",
   "execution_count": 8,
   "id": "2b22b908-b649-4d3e-b793-382160355d86",
   "metadata": {
    "vscode": {
     "languageId": "crystal"
    }
   },
   "outputs": [],
   "source": [
    "require \"qr-code\"\n",
    "require \"qr-code/export/png\""
   ]
  },
  {
   "cell_type": "code",
   "execution_count": 9,
   "id": "8707caed-5d67-4960-b0fe-e6e8bed2df81",
   "metadata": {
    "vscode": {
     "languageId": "crystal"
    }
   },
   "outputs": [
    {
     "data": {
      "text/plain": [
       "QRCode: @data='Crystal', @error_correct_level=2, @version=1, @module_count=21"
      ]
     },
     "execution_count": 9,
     "metadata": {},
     "output_type": "execute_result"
    }
   ],
   "source": [
    "qr = QRCode.new(\"Crystal\")"
   ]
  },
  {
   "cell_type": "code",
   "execution_count": 10,
   "id": "2f23bff7-014f-4795-be35-195315b8fa56",
   "metadata": {
    "vscode": {
     "languageId": "crystal"
    }
   },
   "outputs": [
    {
     "data": {
      "image/svg+xml": [
       "<?xml version=\"1.0\" standalone=\"yes\"?>\n",
       "<svg version=\"1.1\" xmlns=\"http://www.w3.org/2000/svg\" xmlns:xlink=\"http://www.w3.org/1999/xlink\" xmlns:ev=\"http://www.w3.org/2001/xml-events\" width=\"231\" height=\"231\" shape-rendering=\"crispEdges\">\n",
       "<rect width=\"231\" height=\"231\" x=\"0\" y=\"0\" style=\"fill:#fff\"/>\n",
       "<rect width=\"11\" height=\"11\" x=\"0\" y=\"0\" style=\"fill:#000\"/><rect width=\"11\" height=\"11\" x=\"11\" y=\"0\" style=\"fill:#000\"/><rect width=\"11\" height=\"11\" x=\"22\" y=\"0\" style=\"fill:#000\"/><rect width=\"11\" height=\"11\" x=\"33\" y=\"0\" style=\"fill:#000\"/><rect width=\"11\" height=\"11\" x=\"44\" y=\"0\" style=\"fill:#000\"/><rect width=\"11\" height=\"11\" x=\"55\" y=\"0\" style=\"fill:#000\"/><rect width=\"11\" height=\"11\" x=\"66\" y=\"0\" style=\"fill:#000\"/><rect width=\"11\" height=\"11\" x=\"99\" y=\"0\" style=\"fill:#000\"/><rect width=\"11\" height=\"11\" x=\"110\" y=\"0\" style=\"fill:#000\"/><rect width=\"11\" height=\"11\" x=\"121\" y=\"0\" style=\"fill:#000\"/><rect width=\"11\" height=\"11\" x=\"154\" y=\"0\" style=\"fill:#000\"/><rect width=\"11\" height=\"11\" x=\"165\" y=\"0\" style=\"fill:#000\"/><rect width=\"11\" height=\"11\" x=\"176\" y=\"0\" style=\"fill:#000\"/><rect width=\"11\" height=\"11\" x=\"187\" y=\"0\" style=\"fill:#000\"/><rect width=\"11\" height=\"11\" x=\"198\" y=\"0\" style=\"fill:#000\"/><rect width=\"11\" height=\"11\" x=\"209\" y=\"0\" style=\"fill:#000\"/><rect width=\"11\" height=\"11\" x=\"220\" y=\"0\" style=\"fill:#000\"/>\n",
       "<rect width=\"11\" height=\"11\" x=\"0\" y=\"11\" style=\"fill:#000\"/><rect width=\"11\" height=\"11\" x=\"66\" y=\"11\" style=\"fill:#000\"/><rect width=\"11\" height=\"11\" x=\"110\" y=\"11\" style=\"fill:#000\"/><rect width=\"11\" height=\"11\" x=\"132\" y=\"11\" style=\"fill:#000\"/><rect width=\"11\" height=\"11\" x=\"154\" y=\"11\" style=\"fill:#000\"/><rect width=\"11\" height=\"11\" x=\"220\" y=\"11\" style=\"fill:#000\"/>\n",
       "<rect width=\"11\" height=\"11\" x=\"0\" y=\"22\" style=\"fill:#000\"/><rect width=\"11\" height=\"11\" x=\"22\" y=\"22\" style=\"fill:#000\"/><rect width=\"11\" height=\"11\" x=\"33\" y=\"22\" style=\"fill:#000\"/><rect width=\"11\" height=\"11\" x=\"44\" y=\"22\" style=\"fill:#000\"/><rect width=\"11\" height=\"11\" x=\"66\" y=\"22\" style=\"fill:#000\"/><rect width=\"11\" height=\"11\" x=\"88\" y=\"22\" style=\"fill:#000\"/><rect width=\"11\" height=\"11\" x=\"99\" y=\"22\" style=\"fill:#000\"/><rect width=\"11\" height=\"11\" x=\"110\" y=\"22\" style=\"fill:#000\"/><rect width=\"11\" height=\"11\" x=\"121\" y=\"22\" style=\"fill:#000\"/><rect width=\"11\" height=\"11\" x=\"132\" y=\"22\" style=\"fill:#000\"/><rect width=\"11\" height=\"11\" x=\"154\" y=\"22\" style=\"fill:#000\"/><rect width=\"11\" height=\"11\" x=\"176\" y=\"22\" style=\"fill:#000\"/><rect width=\"11\" height=\"11\" x=\"187\" y=\"22\" style=\"fill:#000\"/><rect width=\"11\" height=\"11\" x=\"198\" y=\"22\" style=\"fill:#000\"/><rect width=\"11\" height=\"11\" x=\"220\" y=\"22\" style=\"fill:#000\"/>\n",
       "<rect width=\"11\" height=\"11\" x=\"0\" y=\"33\" style=\"fill:#000\"/><rect width=\"11\" height=\"11\" x=\"22\" y=\"33\" style=\"fill:#000\"/><rect width=\"11\" height=\"11\" x=\"33\" y=\"33\" style=\"fill:#000\"/><rect width=\"11\" height=\"11\" x=\"44\" y=\"33\" style=\"fill:#000\"/><rect width=\"11\" height=\"11\" x=\"66\" y=\"33\" style=\"fill:#000\"/><rect width=\"11\" height=\"11\" x=\"88\" y=\"33\" style=\"fill:#000\"/><rect width=\"11\" height=\"11\" x=\"121\" y=\"33\" style=\"fill:#000\"/><rect width=\"11\" height=\"11\" x=\"132\" y=\"33\" style=\"fill:#000\"/><rect width=\"11\" height=\"11\" x=\"154\" y=\"33\" style=\"fill:#000\"/><rect width=\"11\" height=\"11\" x=\"176\" y=\"33\" style=\"fill:#000\"/><rect width=\"11\" height=\"11\" x=\"187\" y=\"33\" style=\"fill:#000\"/><rect width=\"11\" height=\"11\" x=\"198\" y=\"33\" style=\"fill:#000\"/><rect width=\"11\" height=\"11\" x=\"220\" y=\"33\" style=\"fill:#000\"/>\n",
       "<rect width=\"11\" height=\"11\" x=\"0\" y=\"44\" style=\"fill:#000\"/><rect width=\"11\" height=\"11\" x=\"22\" y=\"44\" style=\"fill:#000\"/><rect width=\"11\" height=\"11\" x=\"33\" y=\"44\" style=\"fill:#000\"/><rect width=\"11\" height=\"11\" x=\"44\" y=\"44\" style=\"fill:#000\"/><rect width=\"11\" height=\"11\" x=\"66\" y=\"44\" style=\"fill:#000\"/><rect width=\"11\" height=\"11\" x=\"110\" y=\"44\" style=\"fill:#000\"/><rect width=\"11\" height=\"11\" x=\"154\" y=\"44\" style=\"fill:#000\"/><rect width=\"11\" height=\"11\" x=\"176\" y=\"44\" style=\"fill:#000\"/><rect width=\"11\" height=\"11\" x=\"187\" y=\"44\" style=\"fill:#000\"/><rect width=\"11\" height=\"11\" x=\"198\" y=\"44\" style=\"fill:#000\"/><rect width=\"11\" height=\"11\" x=\"220\" y=\"44\" style=\"fill:#000\"/>\n",
       "<rect width=\"11\" height=\"11\" x=\"0\" y=\"55\" style=\"fill:#000\"/><rect width=\"11\" height=\"11\" x=\"66\" y=\"55\" style=\"fill:#000\"/><rect width=\"11\" height=\"11\" x=\"110\" y=\"55\" style=\"fill:#000\"/><rect width=\"11\" height=\"11\" x=\"121\" y=\"55\" style=\"fill:#000\"/><rect width=\"11\" height=\"11\" x=\"154\" y=\"55\" style=\"fill:#000\"/><rect width=\"11\" height=\"11\" x=\"220\" y=\"55\" style=\"fill:#000\"/>\n",
       "<rect width=\"11\" height=\"11\" x=\"0\" y=\"66\" style=\"fill:#000\"/><rect width=\"11\" height=\"11\" x=\"11\" y=\"66\" style=\"fill:#000\"/><rect width=\"11\" height=\"11\" x=\"22\" y=\"66\" style=\"fill:#000\"/><rect width=\"11\" height=\"11\" x=\"33\" y=\"66\" style=\"fill:#000\"/><rect width=\"11\" height=\"11\" x=\"44\" y=\"66\" style=\"fill:#000\"/><rect width=\"11\" height=\"11\" x=\"55\" y=\"66\" style=\"fill:#000\"/><rect width=\"11\" height=\"11\" x=\"66\" y=\"66\" style=\"fill:#000\"/><rect width=\"11\" height=\"11\" x=\"88\" y=\"66\" style=\"fill:#000\"/><rect width=\"11\" height=\"11\" x=\"110\" y=\"66\" style=\"fill:#000\"/><rect width=\"11\" height=\"11\" x=\"132\" y=\"66\" style=\"fill:#000\"/><rect width=\"11\" height=\"11\" x=\"154\" y=\"66\" style=\"fill:#000\"/><rect width=\"11\" height=\"11\" x=\"165\" y=\"66\" style=\"fill:#000\"/><rect width=\"11\" height=\"11\" x=\"176\" y=\"66\" style=\"fill:#000\"/><rect width=\"11\" height=\"11\" x=\"187\" y=\"66\" style=\"fill:#000\"/><rect width=\"11\" height=\"11\" x=\"198\" y=\"66\" style=\"fill:#000\"/><rect width=\"11\" height=\"11\" x=\"209\" y=\"66\" style=\"fill:#000\"/><rect width=\"11\" height=\"11\" x=\"220\" y=\"66\" style=\"fill:#000\"/>\n",
       "<rect width=\"11\" height=\"11\" x=\"99\" y=\"77\" style=\"fill:#000\"/><rect width=\"11\" height=\"11\" x=\"110\" y=\"77\" style=\"fill:#000\"/><rect width=\"11\" height=\"11\" x=\"132\" y=\"77\" style=\"fill:#000\"/>\n",
       "<rect width=\"11\" height=\"11\" x=\"33\" y=\"88\" style=\"fill:#000\"/><rect width=\"11\" height=\"11\" x=\"44\" y=\"88\" style=\"fill:#000\"/><rect width=\"11\" height=\"11\" x=\"66\" y=\"88\" style=\"fill:#000\"/><rect width=\"11\" height=\"11\" x=\"77\" y=\"88\" style=\"fill:#000\"/><rect width=\"11\" height=\"11\" x=\"110\" y=\"88\" style=\"fill:#000\"/><rect width=\"11\" height=\"11\" x=\"132\" y=\"88\" style=\"fill:#000\"/><rect width=\"11\" height=\"11\" x=\"187\" y=\"88\" style=\"fill:#000\"/><rect width=\"11\" height=\"11\" x=\"198\" y=\"88\" style=\"fill:#000\"/>\n",
       "<rect width=\"11\" height=\"11\" x=\"0\" y=\"99\" style=\"fill:#000\"/><rect width=\"11\" height=\"11\" x=\"11\" y=\"99\" style=\"fill:#000\"/><rect width=\"11\" height=\"11\" x=\"22\" y=\"99\" style=\"fill:#000\"/><rect width=\"11\" height=\"11\" x=\"55\" y=\"99\" style=\"fill:#000\"/><rect width=\"11\" height=\"11\" x=\"88\" y=\"99\" style=\"fill:#000\"/><rect width=\"11\" height=\"11\" x=\"132\" y=\"99\" style=\"fill:#000\"/><rect width=\"11\" height=\"11\" x=\"143\" y=\"99\" style=\"fill:#000\"/><rect width=\"11\" height=\"11\" x=\"176\" y=\"99\" style=\"fill:#000\"/><rect width=\"11\" height=\"11\" x=\"198\" y=\"99\" style=\"fill:#000\"/><rect width=\"11\" height=\"11\" x=\"209\" y=\"99\" style=\"fill:#000\"/>\n",
       "<rect width=\"11\" height=\"11\" x=\"0\" y=\"110\" style=\"fill:#000\"/><rect width=\"11\" height=\"11\" x=\"22\" y=\"110\" style=\"fill:#000\"/><rect width=\"11\" height=\"11\" x=\"33\" y=\"110\" style=\"fill:#000\"/><rect width=\"11\" height=\"11\" x=\"66\" y=\"110\" style=\"fill:#000\"/><rect width=\"11\" height=\"11\" x=\"99\" y=\"110\" style=\"fill:#000\"/><rect width=\"11\" height=\"11\" x=\"154\" y=\"110\" style=\"fill:#000\"/><rect width=\"11\" height=\"11\" x=\"165\" y=\"110\" style=\"fill:#000\"/><rect width=\"11\" height=\"11\" x=\"187\" y=\"110\" style=\"fill:#000\"/><rect width=\"11\" height=\"11\" x=\"209\" y=\"110\" style=\"fill:#000\"/><rect width=\"11\" height=\"11\" x=\"220\" y=\"110\" style=\"fill:#000\"/>\n",
       "<rect width=\"11\" height=\"11\" x=\"0\" y=\"121\" style=\"fill:#000\"/><rect width=\"11\" height=\"11\" x=\"55\" y=\"121\" style=\"fill:#000\"/><rect width=\"11\" height=\"11\" x=\"77\" y=\"121\" style=\"fill:#000\"/><rect width=\"11\" height=\"11\" x=\"88\" y=\"121\" style=\"fill:#000\"/><rect width=\"11\" height=\"11\" x=\"99\" y=\"121\" style=\"fill:#000\"/><rect width=\"11\" height=\"11\" x=\"110\" y=\"121\" style=\"fill:#000\"/><rect width=\"11\" height=\"11\" x=\"132\" y=\"121\" style=\"fill:#000\"/><rect width=\"11\" height=\"11\" x=\"154\" y=\"121\" style=\"fill:#000\"/><rect width=\"11\" height=\"11\" x=\"176\" y=\"121\" style=\"fill:#000\"/><rect width=\"11\" height=\"11\" x=\"198\" y=\"121\" style=\"fill:#000\"/><rect width=\"11\" height=\"11\" x=\"209\" y=\"121\" style=\"fill:#000\"/><rect width=\"11\" height=\"11\" x=\"220\" y=\"121\" style=\"fill:#000\"/>\n",
       "<rect width=\"11\" height=\"11\" x=\"0\" y=\"132\" style=\"fill:#000\"/><rect width=\"11\" height=\"11\" x=\"11\" y=\"132\" style=\"fill:#000\"/><rect width=\"11\" height=\"11\" x=\"33\" y=\"132\" style=\"fill:#000\"/><rect width=\"11\" height=\"11\" x=\"44\" y=\"132\" style=\"fill:#000\"/><rect width=\"11\" height=\"11\" x=\"55\" y=\"132\" style=\"fill:#000\"/><rect width=\"11\" height=\"11\" x=\"66\" y=\"132\" style=\"fill:#000\"/><rect width=\"11\" height=\"11\" x=\"77\" y=\"132\" style=\"fill:#000\"/><rect width=\"11\" height=\"11\" x=\"88\" y=\"132\" style=\"fill:#000\"/><rect width=\"11\" height=\"11\" x=\"99\" y=\"132\" style=\"fill:#000\"/><rect width=\"11\" height=\"11\" x=\"110\" y=\"132\" style=\"fill:#000\"/><rect width=\"11\" height=\"11\" x=\"121\" y=\"132\" style=\"fill:#000\"/><rect width=\"11\" height=\"11\" x=\"132\" y=\"132\" style=\"fill:#000\"/><rect width=\"11\" height=\"11\" x=\"143\" y=\"132\" style=\"fill:#000\"/><rect width=\"11\" height=\"11\" x=\"209\" y=\"132\" style=\"fill:#000\"/><rect width=\"11\" height=\"11\" x=\"220\" y=\"132\" style=\"fill:#000\"/>\n",
       "<rect width=\"11\" height=\"11\" x=\"88\" y=\"143\" style=\"fill:#000\"/><rect width=\"11\" height=\"11\" x=\"99\" y=\"143\" style=\"fill:#000\"/><rect width=\"11\" height=\"11\" x=\"121\" y=\"143\" style=\"fill:#000\"/><rect width=\"11\" height=\"11\" x=\"143\" y=\"143\" style=\"fill:#000\"/><rect width=\"11\" height=\"11\" x=\"154\" y=\"143\" style=\"fill:#000\"/><rect width=\"11\" height=\"11\" x=\"176\" y=\"143\" style=\"fill:#000\"/><rect width=\"11\" height=\"11\" x=\"209\" y=\"143\" style=\"fill:#000\"/><rect width=\"11\" height=\"11\" x=\"220\" y=\"143\" style=\"fill:#000\"/>\n",
       "<rect width=\"11\" height=\"11\" x=\"0\" y=\"154\" style=\"fill:#000\"/><rect width=\"11\" height=\"11\" x=\"11\" y=\"154\" style=\"fill:#000\"/><rect width=\"11\" height=\"11\" x=\"22\" y=\"154\" style=\"fill:#000\"/><rect width=\"11\" height=\"11\" x=\"33\" y=\"154\" style=\"fill:#000\"/><rect width=\"11\" height=\"11\" x=\"44\" y=\"154\" style=\"fill:#000\"/><rect width=\"11\" height=\"11\" x=\"55\" y=\"154\" style=\"fill:#000\"/><rect width=\"11\" height=\"11\" x=\"66\" y=\"154\" style=\"fill:#000\"/><rect width=\"11\" height=\"11\" x=\"88\" y=\"154\" style=\"fill:#000\"/><rect width=\"11\" height=\"11\" x=\"110\" y=\"154\" style=\"fill:#000\"/><rect width=\"11\" height=\"11\" x=\"121\" y=\"154\" style=\"fill:#000\"/><rect width=\"11\" height=\"11\" x=\"143\" y=\"154\" style=\"fill:#000\"/><rect width=\"11\" height=\"11\" x=\"176\" y=\"154\" style=\"fill:#000\"/><rect width=\"11\" height=\"11\" x=\"187\" y=\"154\" style=\"fill:#000\"/><rect width=\"11\" height=\"11\" x=\"198\" y=\"154\" style=\"fill:#000\"/>\n",
       "<rect width=\"11\" height=\"11\" x=\"0\" y=\"165\" style=\"fill:#000\"/><rect width=\"11\" height=\"11\" x=\"66\" y=\"165\" style=\"fill:#000\"/><rect width=\"11\" height=\"11\" x=\"99\" y=\"165\" style=\"fill:#000\"/><rect width=\"11\" height=\"11\" x=\"110\" y=\"165\" style=\"fill:#000\"/><rect width=\"11\" height=\"11\" x=\"121\" y=\"165\" style=\"fill:#000\"/><rect width=\"11\" height=\"11\" x=\"154\" y=\"165\" style=\"fill:#000\"/><rect width=\"11\" height=\"11\" x=\"165\" y=\"165\" style=\"fill:#000\"/><rect width=\"11\" height=\"11\" x=\"176\" y=\"165\" style=\"fill:#000\"/><rect width=\"11\" height=\"11\" x=\"187\" y=\"165\" style=\"fill:#000\"/><rect width=\"11\" height=\"11\" x=\"198\" y=\"165\" style=\"fill:#000\"/><rect width=\"11\" height=\"11\" x=\"209\" y=\"165\" style=\"fill:#000\"/>\n",
       "<rect width=\"11\" height=\"11\" x=\"0\" y=\"176\" style=\"fill:#000\"/><rect width=\"11\" height=\"11\" x=\"22\" y=\"176\" style=\"fill:#000\"/><rect width=\"11\" height=\"11\" x=\"33\" y=\"176\" style=\"fill:#000\"/><rect width=\"11\" height=\"11\" x=\"44\" y=\"176\" style=\"fill:#000\"/><rect width=\"11\" height=\"11\" x=\"66\" y=\"176\" style=\"fill:#000\"/><rect width=\"11\" height=\"11\" x=\"88\" y=\"176\" style=\"fill:#000\"/><rect width=\"11\" height=\"11\" x=\"121\" y=\"176\" style=\"fill:#000\"/><rect width=\"11\" height=\"11\" x=\"132\" y=\"176\" style=\"fill:#000\"/><rect width=\"11\" height=\"11\" x=\"154\" y=\"176\" style=\"fill:#000\"/><rect width=\"11\" height=\"11\" x=\"165\" y=\"176\" style=\"fill:#000\"/><rect width=\"11\" height=\"11\" x=\"209\" y=\"176\" style=\"fill:#000\"/><rect width=\"11\" height=\"11\" x=\"220\" y=\"176\" style=\"fill:#000\"/>\n",
       "<rect width=\"11\" height=\"11\" x=\"0\" y=\"187\" style=\"fill:#000\"/><rect width=\"11\" height=\"11\" x=\"22\" y=\"187\" style=\"fill:#000\"/><rect width=\"11\" height=\"11\" x=\"33\" y=\"187\" style=\"fill:#000\"/><rect width=\"11\" height=\"11\" x=\"44\" y=\"187\" style=\"fill:#000\"/><rect width=\"11\" height=\"11\" x=\"66\" y=\"187\" style=\"fill:#000\"/><rect width=\"11\" height=\"11\" x=\"88\" y=\"187\" style=\"fill:#000\"/><rect width=\"11\" height=\"11\" x=\"121\" y=\"187\" style=\"fill:#000\"/><rect width=\"11\" height=\"11\" x=\"132\" y=\"187\" style=\"fill:#000\"/><rect width=\"11\" height=\"11\" x=\"143\" y=\"187\" style=\"fill:#000\"/><rect width=\"11\" height=\"11\" x=\"187\" y=\"187\" style=\"fill:#000\"/><rect width=\"11\" height=\"11\" x=\"198\" y=\"187\" style=\"fill:#000\"/>\n",
       "<rect width=\"11\" height=\"11\" x=\"0\" y=\"198\" style=\"fill:#000\"/><rect width=\"11\" height=\"11\" x=\"22\" y=\"198\" style=\"fill:#000\"/><rect width=\"11\" height=\"11\" x=\"33\" y=\"198\" style=\"fill:#000\"/><rect width=\"11\" height=\"11\" x=\"44\" y=\"198\" style=\"fill:#000\"/><rect width=\"11\" height=\"11\" x=\"66\" y=\"198\" style=\"fill:#000\"/><rect width=\"11\" height=\"11\" x=\"143\" y=\"198\" style=\"fill:#000\"/><rect width=\"11\" height=\"11\" x=\"154\" y=\"198\" style=\"fill:#000\"/><rect width=\"11\" height=\"11\" x=\"176\" y=\"198\" style=\"fill:#000\"/><rect width=\"11\" height=\"11\" x=\"209\" y=\"198\" style=\"fill:#000\"/><rect width=\"11\" height=\"11\" x=\"220\" y=\"198\" style=\"fill:#000\"/>\n",
       "<rect width=\"11\" height=\"11\" x=\"0\" y=\"209\" style=\"fill:#000\"/><rect width=\"11\" height=\"11\" x=\"66\" y=\"209\" style=\"fill:#000\"/><rect width=\"11\" height=\"11\" x=\"121\" y=\"209\" style=\"fill:#000\"/><rect width=\"11\" height=\"11\" x=\"143\" y=\"209\" style=\"fill:#000\"/><rect width=\"11\" height=\"11\" x=\"187\" y=\"209\" style=\"fill:#000\"/><rect width=\"11\" height=\"11\" x=\"198\" y=\"209\" style=\"fill:#000\"/><rect width=\"11\" height=\"11\" x=\"209\" y=\"209\" style=\"fill:#000\"/><rect width=\"11\" height=\"11\" x=\"220\" y=\"209\" style=\"fill:#000\"/>\n",
       "<rect width=\"11\" height=\"11\" x=\"0\" y=\"220\" style=\"fill:#000\"/><rect width=\"11\" height=\"11\" x=\"11\" y=\"220\" style=\"fill:#000\"/><rect width=\"11\" height=\"11\" x=\"22\" y=\"220\" style=\"fill:#000\"/><rect width=\"11\" height=\"11\" x=\"33\" y=\"220\" style=\"fill:#000\"/><rect width=\"11\" height=\"11\" x=\"44\" y=\"220\" style=\"fill:#000\"/><rect width=\"11\" height=\"11\" x=\"55\" y=\"220\" style=\"fill:#000\"/><rect width=\"11\" height=\"11\" x=\"66\" y=\"220\" style=\"fill:#000\"/><rect width=\"11\" height=\"11\" x=\"99\" y=\"220\" style=\"fill:#000\"/><rect width=\"11\" height=\"11\" x=\"121\" y=\"220\" style=\"fill:#000\"/><rect width=\"11\" height=\"11\" x=\"132\" y=\"220\" style=\"fill:#000\"/><rect width=\"11\" height=\"11\" x=\"143\" y=\"220\" style=\"fill:#000\"/><rect width=\"11\" height=\"11\" x=\"176\" y=\"220\" style=\"fill:#000\"/><rect width=\"11\" height=\"11\" x=\"187\" y=\"220\" style=\"fill:#000\"/>\n",
       "</svg>"
      ]
     },
     "execution_count": 10,
     "metadata": {},
     "output_type": "execute_result"
    }
   ],
   "source": [
    "ICrystal.svg qr.as_svg"
   ]
  },
  {
   "cell_type": "code",
   "execution_count": 15,
   "id": "bd6fc2dc",
   "metadata": {
    "vscode": {
     "languageId": "crystal"
    }
   },
   "outputs": [
    {
     "data": {
      "text/html": [
       "<img src=\"data:image/png;base64,iVBORw0KGgoAAAANSUhEUgAAAQAAAAEAEAYAAAAM4nQlAAARgUlEQVR4nO3W\n",
       "Ma4su44EwLf/Tc8AH3LKKaDPLZEpKsJJV0pS3fXf/wEA1/mv+wAAQD0fAABw\n",
       "IR8AAHAhHwAAcCEfAABwIR8AAHAhHwAAcCEfAABwIR8AAHAhHwAAcCEfAABw\n",
       "IR8AAHAhHwAAcCEfAABwIR8AAHAhHwAAcCEfAABwIR8AAHAhHwAAcCEfAABw\n",
       "IR8AAHAhHwAAcCEfAABwIR8AAHAhHwAAcCEfAABwIR8AAHAhHwAAcCEfAABw\n",
       "IR8AAHAhHwAAcCEfAABwIR8Ay3//I2/LNN196FlOTp5UsnQvpuzJNN196FlO\n",
       "Tp5UsnQvpuzJNN196FlOTp5UsnQvpuzJNN196FlOTp5UsnQvpuzJNN196FlO\n",
       "Tp5UsnQvpuzJNN196FlOTp5UsnQvpuzJNN196FlOTp5UsnQvpuzJNN196FlO\n",
       "Tp5UsnQvpuzJNN196FlOTp5Usliws5jXu7R+nId/YV57qGSxYGcxr3dp/TgP\n",
       "/8K89lDJYsHOYl7v0vpxHv6Fee2hksWCncW83qX14zz8C/PaQyWLBTuLeb1L\n",
       "68d5+BfmtYdKFgt2FvN6l9aP8/AvzGsPlSwW7Czm9S6tH+fhX5jXHipZLNhZ\n",
       "zOtdWj/Ow78wrz1Usliws5jXu7R+nId/YV57qGRJW7CvzpOWaf2knUe+Z9q8\n",
       "0s6Tlmn98KSSJW3Bqh9qVab1k3Ye+Z5p80o7T1qm9cOTSpa0Bat+qFWZ1k/a\n",
       "eeR7ps0r7TxpmdYPTypZ0has+qFWZVo/aeeR75k2r7TzpGVaPzypZElbsOqH\n",
       "WpVp/aSdR75n2rzSzpOWaf3wpJIlbcGqH2pVpvWTdh75nmnzSjtPWqb1w5NK\n",
       "lrQFq36oVZnWT9p55HumzSvtPGmZ1g9PKlnSFqz6oVZlWj9p55HvmTavtPOk\n",
       "ZVo/PKlkSVuw6odalWn9pJ1HvmfavNLOk5Zp/fCkkiVtwaofalWm9TP1PF+p\n",
       "3o9b59Xd665M64cnlSxpC1b9UKsyrZ+p5/lK9X7cOq/uXndlWj88qWRJW7Dq\n",
       "h1qVaf1MPc9Xqvfj1nl197or0/rhSSVL2oJVP9SqTOtn6nm+Ur0ft86ru9dd\n",
       "mdYPTypZ0has+qFWZVo/U8/zler9uHVe3b3uyrR+eFLJkrZg1Q+1KtP6mXqe\n",
       "r1Tvx63z6u51V6b1w5NKlrQFq36oVZnWz9TzfKV6P26dV3evuzKtH55UsqQt\n",
       "WPVDrcq0fqae5yvV+3HrvLp73ZVp/fCkkiVtwaofalWm9TP1PF+p3o9b59Xd\n",
       "665M64cnlSxpC1b9UKsyrZ+p9PMurZ+vzpOWaf3wpJIlbcGqH2pVpvUzlX7e\n",
       "pfXz1XnSMq0fnlSypC1Y9UOtyrR+ptLPu7R+vjpPWqb1w5NKlrQFq36oVZnW\n",
       "z1T6eZfWz1fnScu0fnhSyZK2YNUPtSrT+plKP+/S+vnqPGmZ1g9PKlnSFqz6\n",
       "oVZlWj9T6eddWj9fnSct0/rhSSVL2oJVP9SqTOtnKv28S+vnq/OkZVo/PKlk\n",
       "SVuw6odalWn9TKWfd2n9fHWetEzrhyeVLGkLVv1QqzKtn6n08y6tn6/Ok5Zp\n",
       "/fCkksWCncW83n3Vz9Sep95rKvPaQyWLBTuLeb37qp+pPU+911TmtYdKFgt2\n",
       "FvN691U/U3ueeq+pzGsPlSwW7Czm9e6rfqb2PPVeU5nXHipZLNhZzOvdV/1M\n",
       "7XnqvaYyrz1Usliws5jXu6/6mdrz1HtNZV57qGSxYGcxr3df9TO156n3msq8\n",
       "9lDJYsHOYl7vvupnas9T7zWVee2hksWCncW83n3Vz9Sep95rKvPaQyVL9Q+i\n",
       "zMi0/XGes84jz0qeVLJ0L6bsybT9cZ6zziPPSp5UsnQvpuzJtP1xnrPOI89K\n",
       "nlSydC+m7Mm0/XGes84jz0qeVLJ0L6bsybT9cZ6zziPPSp5UsnQvpuzJtP1x\n",
       "nrPOI89KnlSydC+m7Mm0/XGes84jz0qeVLJ0L6bsybT9cZ6zziPPSp5UsnQv\n",
       "puzJtP1xnrPOI89KnlQCQbp/IHf9YKadB/ABAFG6//B9AMA9PCkI0v2H7wMA\n",
       "7uFJQZDuP3wfAHAPTwqCdP/h+wCAe3hSEKT7D98HANzDk4Ig3X/4PgDgHp4U\n",
       "BOn+w/cBAPfwpCBI9x++DwC4hyc1XPcfSPofStq9vpJ2r7TzTFW99+Z1NiMa\n",
       "rvsHYNcPQvc9dt3rK2n3SjvPVNV7b15nM6Lhun8Adv0gdN9j172+knavtPNM\n",
       "Vb335nU2Ixqu+wdg1w9C9z123esrafdKO89U1XtvXmczouG6fwB2/SB032PX\n",
       "vb6Sdq+080xVvffmdTYjGq77B2DXD0L3PXbd6ytp90o7z1TVe29eZzOi4bp/\n",
       "AHb9IHTfY9e9vpJ2r7TzTFW99+Z1NiMarvsHYNcPQvc9dt3rK2n3SjvPVNV7\n",
       "b15nM6Lhun8Adv0gdN9j172+knavtPNMVb335nU2I1q6H8otD9C9zrrXV6r3\n",
       "/rSe0+7VPZ/0eU2h2qV7wW95OO511r2+Ur33p/Wcdq/u+aTPawrVLt0LfsvD\n",
       "ca+z7vWV6r0/ree0e3XPJ31eU6h26V7wWx6Oe511r69U7/1pPafdq3s+6fOa\n",
       "QrVL94Lf8nDc66x7faV670/rOe1e3fNJn9cUql26F/yWh+NeZ93rK9V7f1rP\n",
       "affqnk/6vKZQ7dK94Lc8HPc6615fqd7703pOu1f3fNLnNYVql+4Fv+XhuNdZ\n",
       "9/pK9d6f1nPavbrnkz6vKVS7dC/4LQ/Hvc6611eq9/60ntPu1T2f9HlNodol\n",
       "bVG7H1z6A3Svs+6Vpvr9VM1r6nnS7jWFSpa0Bet+KOkPx73Oulea6vdTNa+p\n",
       "50m71xQqWdIWrPuhpD8c9zrrXmmq30/VvKaeJ+1eU6hkSVuw7oeS/nDc66x7\n",
       "pal+P1XzmnqetHtNoZIlbcG6H0r6w3Gvs+6Vpvr9VM1r6nnS7jWFSpa0Bet+\n",
       "KOkPx73Oulea6vdTNa+p50m71xQqWdIWrPuhpD8c9zrrXmmq30/VvKaeJ+1e\n",
       "U6hkSVuw7oeS/nDc66x7pal+P1XzmnqetHtNoZIlbcG6H0r6w3Gvs+6Vpvr9\n",
       "VM1r6nnS7jWFShYLViOt5+ofoNMyrWfnOes8acmTShYLViOt5+ofoNMyrWfn\n",
       "Oes8acmTShYLViOt5+ofoNMyrWfnOes8acmTShYLViOt5+ofoNMyrWfnOes8\n",
       "acmTShYLViOt5+ofoNMyrWfnOes8acmTShYLViOt5+ofoNMyrWfnOes8acmT\n",
       "ShYLViOt5+ofoNMyrWfnOes8acmTShYLViOt5+ofoNMyrWfnOes8acmTShYL\n",
       "ViOt5+ofoNMyrWfnOes8acmTSpbuxdy1qN33kDIxqdE9Z3N/p5KlezF3LWr3\n",
       "PaRMTGp0z9nc36lk6V7MXYvafQ8pE5Ma3XM293cqWboXc9eidt9DysSkRvec\n",
       "zf2dSpbuxdy1qN33kDIxqdE9Z3N/p5KlezF3LWr3PaRMTGp0z9nc36lk6V7M\n",
       "XYvafQ8pE5Ma3XM293cqWboXc9eidt9DysSkRveczf2dSpbuxdy1qN33kDIx\n",
       "qdE9Z3N/pxL4QPcP264fuqnnmXqvNN3zSe+nm0rgA90/bLt+6KaeZ+q90nTP\n",
       "J72fbiqBD3T/sO36oZt6nqn3StM9n/R+uqkEPtD9w7brh27qeabeK033fNL7\n",
       "6aYS+ED3D9uuH7qp55l6rzTd80nvp5tK4APdP2y7fuimnmfqvdJ0zye9n24q\n",
       "gQ90/7Dt+qGbep6p90rTPZ/0frqpBD7Q/cO264du6nmm3itN93zS++mmEvhA\n",
       "9w/brh+6qeeZeq803fNJ76ebSpbuxZQ9mbY/aeeZeq803fPZlWQzoqX7ocie\n",
       "TNuftPNMvVea7vnsSrIZ0dL9UGRPpu1P2nmm3itN93x2JdmMaOl+KLIn0/Yn\n",
       "7TxT75Wmez67kmxGtHQ/FNmTafuTdp6p90rTPZ9dSTYjWrofiuzJtP1JO8/U\n",
       "e6Xpns+uJJsRLd0PRfZk2v6knWfqvdJ0z2dXks2Ilu6HInsybX/SzjP1Xmm6\n",
       "57MryWZES/dDkT2Ztj9p55l6rzTd89mVZDOixcKfZeq8qn+gqzJNdx/yt2QP\n",
       "1S4W9SxT51X9w1qVabr7kL8le6h2sahnmTqv6h/WqkzT3Yf8LdlDtYtFPcvU\n",
       "eVX/sFZlmu4+5G/JHqpdLOpZps6r+oe1KtN09yF/S/ZQ7WJRzzJ1XtU/rFWZ\n",
       "prsP+Vuyh2oXi3qWqfOq/mGtyjTdfcjfkj1Uu1jUs0ydV/UPa1Wm6e5D/pbs\n",
       "odrFop5l6ryqf1irMk13H/K3ZA/VLmmL2v3gdmVaP1PP85Xq/ThtXmn3StPd\n",
       "6y09/5VKlrQF634ouzKtn6nn+Ur1fpw2r7R7penu9Zae/0olS9qCdT+UXZnW\n",
       "z9TzfKV6P06bV9q90nT3ekvPf6WSJW3Buh/KrkzrZ+p5vlK9H6fNK+1eabp7\n",
       "vaXnv1LJkrZg3Q9lV6b1M/U8X6nej9PmlXavNN293tLzX6lkSVuw7oeyK9P6\n",
       "mXqer1Tvx2nzSrtXmu5eb+n5r1SypC1Y90PZlWn9TD3PV6r347R5pd0rTXev\n",
       "t/T8VypZ0has+6HsyrR+pp7nK9X7cdq80u6VprvXW3r+K5UsaQvW/VB2ZVo/\n",
       "U8/zler9OG1eafdK093rLT3/lUqWtAXrfii7Mq2fqef5SvV+VOVU3b3e0vMU\n",
       "RrSkLXz3w92Vaf1MPc9XqvejKqfq7vWWnqcwoiVt4bsf7q5M62fqeb5SvR9V\n",
       "OVV3r7f0PIURLWkL3/1wd2VaP1PP85Xq/ajKqbp7vaXnKYxoSVv47oe7K9P6\n",
       "mXqer1TvR1VO1d3rLT1PYURL2sJ3P9xdmdbP1PN8pXo/qnKq7l5v6XkKI1rS\n",
       "Fr774e7KtH6mnucr1ftRlVN193pLz1MY0ZK28N0Pd1em9TP1PF+p3o+qnKq7\n",
       "11t6nsKIlrSF7364uzKtn6nn+Ur1flTlVN293tLzFEa0pC1898PdlWn9cJbu\n",
       "/bXPv+meT3o/3VSypC1Y90PZlWn9cJbu/bXPv+meT3o/3VSypC1Y90PZlWn9\n",
       "cJbu/bXPv+meT3o/3VSypC1Y90PZlWn9cJbu/bXPv+meT3o/3VSypC1Y90PZ\n",
       "lWn9cJbu/bXPv+meT3o/3VSypC1Y90PZlWn9cJbu/bXPv+meT3o/3VSypC1Y\n",
       "90PZlWn9cJbu/bXPv+meT3o/3VSypC1Y90PZlWn9cJbu/bXPv+meT3o/3VSy\n",
       "pC1Y90PZlWn9cJbu/bXPv+meT3o/3VSyWLCzmFeNtJ7TzpPmq36mJk8qWSzY\n",
       "WcyrRlrPaedJ81U/U5MnlSwW7CzmVSOt57TzpPmqn6nJk0oWC3YW86qR1nPa\n",
       "edJ81c/U5EkliwU7i3nVSOs57TxpvupnavKkksWCncW8aqT1nHaeNF/1MzV5\n",
       "Usliwc5iXjXSek47T5qv+pmaPKlksWBnMa8aaT2nnSfNV/1MTZ5Usliws5hX\n",
       "jbSe086T5qt+piZPKlm6F1P2ZJq0e3XPZ1em6e4jvR/2MOql+8HJnkyTdq/u\n",
       "+ezKNN19pPfDHka9dD842ZNp0u7VPZ9dmaa7j/R+2MOol+4HJ3syTdq9uuez\n",
       "K9N095HeD3sY9dL94GRPpkm7V/d8dmWa7j7S+2EPo166H5zsyTRp9+qez65M\n",
       "091Hej/sYdRL94OTPZkm7V7d89mVabr7SO+HPYx66X5wsifTpN2rez67Mk13\n",
       "H+n9sIdRL90PTvZkmrR7dc9nV6bp7iO9H/YwagC4kA8AALiQDwAAuJAPAAC4\n",
       "kA8AALiQDwAAuJAPAAC4kA8AALiQDwAAuJAPAAC4kA8AALiQDwAAuJAPAAC4\n",
       "kA8AALiQDwAAuJAPAAC4kA8AALiQDwAAuJAPAAC4kA8AALiQDwAAuJAPAAC4\n",
       "kA8AALiQDwAAuJAPAAC4kA8AALiQDwAAuJAPAAC4kA8AALiQDwAAuJAPAAC4\n",
       "kA8AALiQDwAAuJAPAAC40P8D6nNusDd1La8AAAAASUVORK5CYII=\n",
       "\"/>"
      ]
     },
     "execution_count": 15,
     "metadata": {},
     "output_type": "execute_result"
    }
   ],
   "source": [
    "ICrystal.html %(<img src=\"data:image/png;base64,#{Base64.encode(qr.as_png(size: 256))}\"/>) "
   ]
  }
 ],
 "metadata": {
  "kernelspec": {
   "display_name": "Crystal 1.10.1",
   "language": "crystal",
   "name": "crystal"
  },
  "language_info": {
   "file_extension": ".cr",
   "mimetype": "text/x-crystal",
   "name": "Crystal",
   "version": "1.10.1"
  }
 },
 "nbformat": 4,
 "nbformat_minor": 5
}
