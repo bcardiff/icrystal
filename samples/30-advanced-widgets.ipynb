{
 "cells": [
  {
   "cell_type": "code",
   "execution_count": 9,
   "id": "89facb46-273f-4183-b53d-2675a763b8e3",
   "metadata": {},
   "outputs": [],
   "source": [
    "class Counter\n",
    "    getter name : String\n",
    "    getter count : Int32 = 0\n",
    "\n",
    "    def initialize(@name : String)\n",
    "    end\n",
    "\n",
    "    def display_data\n",
    "        {\n",
    "          \"data\"            => {\"text/html\" => render},\n",
    "          \"metadata\"        => {} of String => ICrystal::Any,\n",
    "          \"transient\"       => {\"display_id\" => name},                \n",
    "        }\n",
    "    end\n",
    "    \n",
    "    def display\n",
    "        ICrystal.session.publish(\"display_data\", display_data)\n",
    "        ICrystal.none\n",
    "    end\n",
    "\n",
    "    def update_display\n",
    "        ICrystal.session.publish(\"update_display_data\", display_data)\n",
    "        ICrystal.none        \n",
    "    end\n",
    "    \n",
    "    def render\n",
    "      \"<p>#{@name}: #{@count}</p>\"\n",
    "    end\n",
    "\n",
    "    def inc\n",
    "        @count += 1\n",
    "    end\n",
    "end"
   ]
  },
  {
   "cell_type": "code",
   "execution_count": 10,
   "id": "2c8dd7e6-0014-4b51-bce2-5285feace810",
   "metadata": {},
   "outputs": [
    {
     "data": {
      "text/plain": [
       "#<Counter:0x11c03a120 @name=\"Counter A\", @count=0>"
      ]
     },
     "execution_count": 10,
     "metadata": {},
     "output_type": "execute_result"
    }
   ],
   "source": [
    "a = Counter.new(\"Counter A\")"
   ]
  },
  {
   "cell_type": "code",
   "execution_count": 11,
   "id": "93384340-7bc5-492f-a03b-788c1577f3ad",
   "metadata": {},
   "outputs": [
    {
     "data": {
      "text/html": [
       "<p>Counter A: 12</p>"
      ]
     },
     "metadata": {},
     "output_type": "display_data"
    }
   ],
   "source": [
    "a.display"
   ]
  },
  {
   "cell_type": "code",
   "execution_count": 14,
   "id": "0ec3fb42-32f0-47f5-8722-3446113d7cbb",
   "metadata": {},
   "outputs": [
    {
     "data": {
      "text/plain": [
       "2"
      ]
     },
     "execution_count": 14,
     "metadata": {},
     "output_type": "execute_result"
    }
   ],
   "source": [
    "a.inc"
   ]
  },
  {
   "cell_type": "code",
   "execution_count": 15,
   "id": "7293455f-999e-473a-9522-5ec2896a70e0",
   "metadata": {},
   "outputs": [],
   "source": [
    "a.update_display"
   ]
  },
  {
   "cell_type": "code",
   "execution_count": 16,
   "id": "9db661ff-2ee4-437e-99fc-87004689a928",
   "metadata": {},
   "outputs": [],
   "source": [
    "10.times do\n",
    "    a.inc\n",
    "    a.update_display\n",
    "    sleep 0.5\n",
    "end\n"
   ]
  }
 ],
 "metadata": {
  "kernelspec": {
   "display_name": "Crystal 1.9.2",
   "language": "crystal",
   "name": "crystal"
  },
  "language_info": {
   "file_extension": ".cr",
   "mimetype": "text/x-crystal",
   "name": "Crystal",
   "version": "1.9.2"
  }
 },
 "nbformat": 4,
 "nbformat_minor": 5
}
