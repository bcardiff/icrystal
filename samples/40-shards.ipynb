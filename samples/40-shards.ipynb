{
 "cells": [
  {
   "cell_type": "code",
   "execution_count": 1,
   "id": "16dc15fa-6adc-447d-bfae-04a0706a1fe6",
   "metadata": {
    "vscode": {
     "languageId": "crystal"
    }
   },
   "outputs": [
    {
     "data": {
      "text/plain": [
       "\"/private/var/folders/n8/0tmy1dss6sj3ytnchmvy1vg80000gn/T/icrystal-20231009-88360-9nc7vg.dir\""
      ]
     },
     "execution_count": 1,
     "metadata": {},
     "output_type": "execute_result"
    }
   ],
   "source": [
    "Dir.current"
   ]
  },
  {
   "cell_type": "code",
   "execution_count": 2,
   "id": "23f4068f-9457-4fce-8ac5-3210fd3154dd",
   "metadata": {
    "vscode": {
     "languageId": "crystal"
    }
   },
   "outputs": [
    {
     "data": {
      "text/plain": [
       "I: Resolving dependencies\n",
       "I: Fetching https://github.com/bcardiff/crystal-lorem.git\n",
       "W: Shard \"lorem\" version (0.2.0) doesn't match tag version (0.2.1)\n",
       "I: Installing lorem (0.2.1)\n",
       "I: Writing shard.lock\n",
       "\n",
       "\n",
       "0"
      ]
     },
     "execution_count": 2,
     "metadata": {},
     "output_type": "execute_result"
    }
   ],
   "source": [
    "ICrystal.shards do\n",
    "    dep \"lorem\", github: \"bcardiff/crystal-lorem\"\n",
    "end"
   ]
  },
  {
   "cell_type": "code",
   "execution_count": 3,
   "id": "d986aded-4ef3-4af0-a899-9fe0aea46f0a",
   "metadata": {
    "vscode": {
     "languageId": "crystal"
    }
   },
   "outputs": [],
   "source": [
    "require \"lorem\""
   ]
  },
  {
   "cell_type": "code",
   "execution_count": 4,
   "id": "847417fc-025a-4270-84ce-7dff1ac3871d",
   "metadata": {
    "vscode": {
     "languageId": "crystal"
    }
   },
   "outputs": [
    {
     "data": {
      "text/plain": [
       "\"Lorem ipsum dolor sit amet\""
      ]
     },
     "execution_count": 4,
     "metadata": {},
     "output_type": "execute_result"
    }
   ],
   "source": [
    "Lorem.ipsum"
   ]
  }
 ],
 "metadata": {
  "kernelspec": {
   "display_name": "Crystal 1.9.2",
   "language": "crystal",
   "name": "crystal"
  },
  "language_info": {
   "file_extension": ".cr",
   "mimetype": "text/x-crystal",
   "name": "Crystal",
   "version": "1.9.2"
  }
 },
 "nbformat": 4,
 "nbformat_minor": 5
}
